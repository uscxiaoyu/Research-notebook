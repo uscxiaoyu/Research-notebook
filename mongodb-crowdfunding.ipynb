{
 "cells": [
  {
   "cell_type": "code",
   "execution_count": 1,
   "metadata": {},
   "outputs": [],
   "source": [
    "import pandas as pd\n",
    "import pymongo\n",
    "client = pymongo.MongoClient('mongodb://localhost:27017')  # 创建一个客户端"
   ]
  },
  {
   "cell_type": "markdown",
   "metadata": {},
   "source": [
    "### 连接moniter_cloudfunding数据库，或者新建数据库"
   ]
  },
  {
   "cell_type": "code",
   "execution_count": 2,
   "metadata": {},
   "outputs": [],
   "source": [
    "db = client.moniter_crowdfunding  # db = client[‘test’]连接/新建test数据库"
   ]
  },
  {
   "cell_type": "code",
   "execution_count": 3,
   "metadata": {},
   "outputs": [],
   "source": [
    "project = db.projects  #db['user'] # 使用/新建set01集合\n",
    "frontpg = db.front_page\n",
    "f_project = db.failure_projects"
   ]
  },
  {
   "cell_type": "markdown",
   "metadata": {},
   "source": [
    "## 1、监测中项目"
   ]
  },
  {
   "cell_type": "markdown",
   "metadata": {},
   "source": [
    "### 创建数据转换函数"
   ]
  },
  {
   "cell_type": "code",
   "execution_count": 4,
   "metadata": {},
   "outputs": [],
   "source": [
    "static_fields = ['_id', '项目名称', '所属类别', '目标金额', '状态', '爬取次数', '众筹期限', \n",
    "                 '公司名称', '公司地址', '公司工作时间', '公司电话',\n",
    "                 '发起人名称', '发起人链接', '状态变换时间0-1', '状态变换时间1-2']"
   ]
  },
  {
   "cell_type": "markdown",
   "metadata": {},
   "source": [
    "#### (1) 获取项目静态信息"
   ]
  },
  {
   "cell_type": "code",
   "execution_count": 5,
   "metadata": {},
   "outputs": [],
   "source": [
    "def get_static_proj(collections=project, category='众筹中', proj_fields = {x: True for x in static_fields}):\n",
    "    items = list(collections.find({'状态': category}, projection=proj_fields))\n",
    "    st_list = pd.DataFrame(items, columns=['项目名称', '所属类别', '目标金额', '状态', '爬取次数', '众筹期限', \n",
    "                                            '公司名称', '公司地址', '公司工作时间', '公司电话',\n",
    "                                            '发起人名称', '发起人链接', '状态变换时间0-1', '状态变换时间1-2'],\n",
    "                          index=[item['_id'] for item in items])\n",
    "    return st_list"
   ]
  },
  {
   "cell_type": "markdown",
   "metadata": {},
   "source": [
    "#### (2) 获取项目动态信息"
   ]
  },
  {
   "cell_type": "code",
   "execution_count": 6,
   "metadata": {},
   "outputs": [],
   "source": [
    "def get_dynamic_proj(collections=project, category='众筹中'):\n",
    "    dt_list = {}\n",
    "    items = list(collections.find({'状态': category}))\n",
    "    for item in items:\n",
    "        p_id = item['_id']\n",
    "        dt_list[p_id] = pd.DataFrame(item['项目动态信息'], \n",
    "                                     columns=['筹集金额', '完成百分比', '支持者数', '关注数', '点赞数', '更新时间'],\n",
    "                                     index=[x['爬取时间'] for x in item['项目动态信息']])\n",
    "    return dt_list                "
   ]
  },
  {
   "cell_type": "markdown",
   "metadata": {},
   "source": [
    "#### (3) 打印各项目信息"
   ]
  },
  {
   "cell_type": "code",
   "execution_count": 7,
   "metadata": {},
   "outputs": [],
   "source": [
    "pd_dyninfo = get_dynamic_proj()\n",
    "p_ids = list(pd_dyninfo.keys())"
   ]
  },
  {
   "cell_type": "code",
   "execution_count": 8,
   "metadata": {},
   "outputs": [],
   "source": [
    "pd_items = get_static_proj(category='众筹中')"
   ]
  },
  {
   "cell_type": "code",
   "execution_count": 9,
   "metadata": {},
   "outputs": [],
   "source": [
    "def show_project(p_id, pd_items=pd_items, pd_dyninfo=pd_dyninfo):\n",
    "    print('项目编号:', p_id, end='\\t')\n",
    "    print('项目名称:', pd_items['项目名称'][p_id])\n",
    "    print('所属类别', pd_items['所属类别'][p_id], end='\\t')\n",
    "    print('众筹期限:', pd_items['众筹期限'][p_id], '天')\n",
    "    return pd_dyninfo[p_id]"
   ]
  },
  {
   "cell_type": "code",
   "execution_count": 10,
   "metadata": {},
   "outputs": [
    {
     "data": {
      "text/html": [
       "<div>\n",
       "<style scoped>\n",
       "    .dataframe tbody tr th:only-of-type {\n",
       "        vertical-align: middle;\n",
       "    }\n",
       "\n",
       "    .dataframe tbody tr th {\n",
       "        vertical-align: top;\n",
       "    }\n",
       "\n",
       "    .dataframe thead th {\n",
       "        text-align: right;\n",
       "    }\n",
       "</style>\n",
       "<table border=\"1\" class=\"dataframe\">\n",
       "  <thead>\n",
       "    <tr style=\"text-align: right;\">\n",
       "      <th></th>\n",
       "      <th>项目名称</th>\n",
       "      <th>状态</th>\n",
       "      <th>爬取次数</th>\n",
       "      <th>众筹期限</th>\n",
       "      <th>所属类别</th>\n",
       "      <th>状态变换时间0-1</th>\n",
       "      <th>状态变换时间1-2</th>\n",
       "    </tr>\n",
       "  </thead>\n",
       "  <tbody>\n",
       "    <tr>\n",
       "      <th>98553</th>\n",
       "      <td>青白瓷旅行茶具套装</td>\n",
       "      <td>众筹中</td>\n",
       "      <td>92</td>\n",
       "      <td>60</td>\n",
       "      <td>原创设计</td>\n",
       "      <td>2018-04-28 10:11:06.367</td>\n",
       "      <td>2018-04-29 07:09:01.887</td>\n",
       "    </tr>\n",
       "    <tr>\n",
       "      <th>100095</th>\n",
       "      <td>荷小马绵柔极薄功能型卫生巾</td>\n",
       "      <td>众筹中</td>\n",
       "      <td>93</td>\n",
       "      <td>30</td>\n",
       "      <td>个人护理</td>\n",
       "      <td>2018-04-28 10:11:06.379</td>\n",
       "      <td>2018-05-02 10:00:15.156</td>\n",
       "    </tr>\n",
       "    <tr>\n",
       "      <th>99981</th>\n",
       "      <td>匠心之作-龙善堂铁壶-雨龙</td>\n",
       "      <td>众筹中</td>\n",
       "      <td>92</td>\n",
       "      <td>30</td>\n",
       "      <td>原创设计</td>\n",
       "      <td>2018-04-28 10:11:06.380</td>\n",
       "      <td>2018-04-29 10:00:22.969</td>\n",
       "    </tr>\n",
       "    <tr>\n",
       "      <th>98917</th>\n",
       "      <td>手绘青绿山水扇面</td>\n",
       "      <td>众筹中</td>\n",
       "      <td>93</td>\n",
       "      <td>50</td>\n",
       "      <td>原创设计</td>\n",
       "      <td>2018-04-28 10:11:06.380</td>\n",
       "      <td>2018-05-01 10:00:18.671</td>\n",
       "    </tr>\n",
       "    <tr>\n",
       "      <th>99680</th>\n",
       "      <td>男女通用 黑科技美牙仪</td>\n",
       "      <td>众筹中</td>\n",
       "      <td>92</td>\n",
       "      <td>50</td>\n",
       "      <td>健康医疗</td>\n",
       "      <td>2018-04-28 10:11:06.380</td>\n",
       "      <td>2018-04-28 14:00:18.670</td>\n",
       "    </tr>\n",
       "  </tbody>\n",
       "</table>\n",
       "</div>"
      ],
      "text/plain": [
       "                 项目名称   状态  爬取次数  众筹期限  所属类别               状态变换时间0-1  \\\n",
       "98553       青白瓷旅行茶具套装  众筹中    92    60  原创设计 2018-04-28 10:11:06.367   \n",
       "100095  荷小马绵柔极薄功能型卫生巾  众筹中    93    30  个人护理 2018-04-28 10:11:06.379   \n",
       "99981   匠心之作-龙善堂铁壶-雨龙  众筹中    92    30  原创设计 2018-04-28 10:11:06.380   \n",
       "98917        手绘青绿山水扇面  众筹中    93    50  原创设计 2018-04-28 10:11:06.380   \n",
       "99680     男女通用 黑科技美牙仪  众筹中    92    50  健康医疗 2018-04-28 10:11:06.380   \n",
       "\n",
       "                     状态变换时间1-2  \n",
       "98553  2018-04-29 07:09:01.887  \n",
       "100095 2018-05-02 10:00:15.156  \n",
       "99981  2018-04-29 10:00:22.969  \n",
       "98917  2018-05-01 10:00:18.671  \n",
       "99680  2018-04-28 14:00:18.670  "
      ]
     },
     "execution_count": 10,
     "metadata": {},
     "output_type": "execute_result"
    }
   ],
   "source": [
    "columns = ['项目名称', '状态', '爬取次数', '众筹期限', '所属类别', '状态变换时间0-1', '状态变换时间1-2']\n",
    "pd_items[columns].sort_values(by='状态变换时间0-1').head()"
   ]
  },
  {
   "cell_type": "code",
   "execution_count": 34,
   "metadata": {},
   "outputs": [
    {
     "name": "stdout",
     "output_type": "stream",
     "text": [
      "项目编号: 100285\t"
     ]
    },
    {
     "ename": "KeyError",
     "evalue": "'100285'",
     "output_type": "error",
     "traceback": [
      "\u001b[1;31m---------------------------------------------------------------------------\u001b[0m",
      "\u001b[1;31mTypeError\u001b[0m                                 Traceback (most recent call last)",
      "\u001b[1;32mH:\\Program Files (x86)\\python3\\lib\\site-packages\\pandas\\core\\indexes\\base.py\u001b[0m in \u001b[0;36mget_value\u001b[1;34m(self, series, key)\u001b[0m\n\u001b[0;32m   2565\u001b[0m             \u001b[1;32mtry\u001b[0m\u001b[1;33m:\u001b[0m\u001b[1;33m\u001b[0m\u001b[0m\n\u001b[1;32m-> 2566\u001b[1;33m                 \u001b[1;32mreturn\u001b[0m \u001b[0mlibts\u001b[0m\u001b[1;33m.\u001b[0m\u001b[0mget_value_box\u001b[0m\u001b[1;33m(\u001b[0m\u001b[0ms\u001b[0m\u001b[1;33m,\u001b[0m \u001b[0mkey\u001b[0m\u001b[1;33m)\u001b[0m\u001b[1;33m\u001b[0m\u001b[0m\n\u001b[0m\u001b[0;32m   2567\u001b[0m             \u001b[1;32mexcept\u001b[0m \u001b[0mIndexError\u001b[0m\u001b[1;33m:\u001b[0m\u001b[1;33m\u001b[0m\u001b[0m\n",
      "\u001b[1;32mpandas\\_libs\\tslib.pyx\u001b[0m in \u001b[0;36mpandas._libs.tslib.get_value_box\u001b[1;34m()\u001b[0m\n",
      "\u001b[1;32mpandas\\_libs\\tslib.pyx\u001b[0m in \u001b[0;36mpandas._libs.tslib.get_value_box\u001b[1;34m()\u001b[0m\n",
      "\u001b[1;31mTypeError\u001b[0m: 'str' object cannot be interpreted as an integer",
      "\nDuring handling of the above exception, another exception occurred:\n",
      "\u001b[1;31mKeyError\u001b[0m                                  Traceback (most recent call last)",
      "\u001b[1;32m<ipython-input-34-ef8ba876b1d6>\u001b[0m in \u001b[0;36m<module>\u001b[1;34m()\u001b[0m\n\u001b[0;32m      1\u001b[0m \u001b[0mp_id\u001b[0m \u001b[1;33m=\u001b[0m \u001b[1;34m'100285'\u001b[0m\u001b[1;33m\u001b[0m\u001b[0m\n\u001b[1;32m----> 2\u001b[1;33m \u001b[0mts\u001b[0m \u001b[1;33m=\u001b[0m \u001b[0mshow_project\u001b[0m\u001b[1;33m(\u001b[0m\u001b[0mp_id\u001b[0m\u001b[1;33m)\u001b[0m\u001b[1;33m\u001b[0m\u001b[0m\n\u001b[0m\u001b[0;32m      3\u001b[0m \u001b[0mts\u001b[0m\u001b[1;33m[\u001b[0m\u001b[1;36m30\u001b[0m\u001b[1;33m:\u001b[0m\u001b[1;33m]\u001b[0m\u001b[1;33m\u001b[0m\u001b[0m\n",
      "\u001b[1;32m<ipython-input-9-7fc9d6116480>\u001b[0m in \u001b[0;36mshow_project\u001b[1;34m(p_id, pd_items, pd_dyninfo)\u001b[0m\n\u001b[0;32m      1\u001b[0m \u001b[1;32mdef\u001b[0m \u001b[0mshow_project\u001b[0m\u001b[1;33m(\u001b[0m\u001b[0mp_id\u001b[0m\u001b[1;33m,\u001b[0m \u001b[0mpd_items\u001b[0m\u001b[1;33m=\u001b[0m\u001b[0mpd_items\u001b[0m\u001b[1;33m,\u001b[0m \u001b[0mpd_dyninfo\u001b[0m\u001b[1;33m=\u001b[0m\u001b[0mpd_dyninfo\u001b[0m\u001b[1;33m)\u001b[0m\u001b[1;33m:\u001b[0m\u001b[1;33m\u001b[0m\u001b[0m\n\u001b[0;32m      2\u001b[0m     \u001b[0mprint\u001b[0m\u001b[1;33m(\u001b[0m\u001b[1;34m'项目编号:'\u001b[0m\u001b[1;33m,\u001b[0m \u001b[0mp_id\u001b[0m\u001b[1;33m,\u001b[0m \u001b[0mend\u001b[0m\u001b[1;33m=\u001b[0m\u001b[1;34m'\\t'\u001b[0m\u001b[1;33m)\u001b[0m\u001b[1;33m\u001b[0m\u001b[0m\n\u001b[1;32m----> 3\u001b[1;33m     \u001b[0mprint\u001b[0m\u001b[1;33m(\u001b[0m\u001b[1;34m'项目名称:'\u001b[0m\u001b[1;33m,\u001b[0m \u001b[0mpd_items\u001b[0m\u001b[1;33m[\u001b[0m\u001b[1;34m'项目名称'\u001b[0m\u001b[1;33m]\u001b[0m\u001b[1;33m[\u001b[0m\u001b[0mp_id\u001b[0m\u001b[1;33m]\u001b[0m\u001b[1;33m)\u001b[0m\u001b[1;33m\u001b[0m\u001b[0m\n\u001b[0m\u001b[0;32m      4\u001b[0m     \u001b[0mprint\u001b[0m\u001b[1;33m(\u001b[0m\u001b[1;34m'所属类别'\u001b[0m\u001b[1;33m,\u001b[0m \u001b[0mpd_items\u001b[0m\u001b[1;33m[\u001b[0m\u001b[1;34m'所属类别'\u001b[0m\u001b[1;33m]\u001b[0m\u001b[1;33m[\u001b[0m\u001b[0mp_id\u001b[0m\u001b[1;33m]\u001b[0m\u001b[1;33m,\u001b[0m \u001b[0mend\u001b[0m\u001b[1;33m=\u001b[0m\u001b[1;34m'\\t'\u001b[0m\u001b[1;33m)\u001b[0m\u001b[1;33m\u001b[0m\u001b[0m\n\u001b[0;32m      5\u001b[0m     \u001b[0mprint\u001b[0m\u001b[1;33m(\u001b[0m\u001b[1;34m'众筹期限:'\u001b[0m\u001b[1;33m,\u001b[0m \u001b[0mpd_items\u001b[0m\u001b[1;33m[\u001b[0m\u001b[1;34m'众筹期限'\u001b[0m\u001b[1;33m]\u001b[0m\u001b[1;33m[\u001b[0m\u001b[0mp_id\u001b[0m\u001b[1;33m]\u001b[0m\u001b[1;33m,\u001b[0m \u001b[1;34m'天'\u001b[0m\u001b[1;33m)\u001b[0m\u001b[1;33m\u001b[0m\u001b[0m\n",
      "\u001b[1;32mH:\\Program Files (x86)\\python3\\lib\\site-packages\\pandas\\core\\series.py\u001b[0m in \u001b[0;36m__getitem__\u001b[1;34m(self, key)\u001b[0m\n\u001b[0;32m    621\u001b[0m         \u001b[0mkey\u001b[0m \u001b[1;33m=\u001b[0m \u001b[0mcom\u001b[0m\u001b[1;33m.\u001b[0m\u001b[0m_apply_if_callable\u001b[0m\u001b[1;33m(\u001b[0m\u001b[0mkey\u001b[0m\u001b[1;33m,\u001b[0m \u001b[0mself\u001b[0m\u001b[1;33m)\u001b[0m\u001b[1;33m\u001b[0m\u001b[0m\n\u001b[0;32m    622\u001b[0m         \u001b[1;32mtry\u001b[0m\u001b[1;33m:\u001b[0m\u001b[1;33m\u001b[0m\u001b[0m\n\u001b[1;32m--> 623\u001b[1;33m             \u001b[0mresult\u001b[0m \u001b[1;33m=\u001b[0m \u001b[0mself\u001b[0m\u001b[1;33m.\u001b[0m\u001b[0mindex\u001b[0m\u001b[1;33m.\u001b[0m\u001b[0mget_value\u001b[0m\u001b[1;33m(\u001b[0m\u001b[0mself\u001b[0m\u001b[1;33m,\u001b[0m \u001b[0mkey\u001b[0m\u001b[1;33m)\u001b[0m\u001b[1;33m\u001b[0m\u001b[0m\n\u001b[0m\u001b[0;32m    624\u001b[0m \u001b[1;33m\u001b[0m\u001b[0m\n\u001b[0;32m    625\u001b[0m             \u001b[1;32mif\u001b[0m \u001b[1;32mnot\u001b[0m \u001b[0mis_scalar\u001b[0m\u001b[1;33m(\u001b[0m\u001b[0mresult\u001b[0m\u001b[1;33m)\u001b[0m\u001b[1;33m:\u001b[0m\u001b[1;33m\u001b[0m\u001b[0m\n",
      "\u001b[1;32mH:\\Program Files (x86)\\python3\\lib\\site-packages\\pandas\\core\\indexes\\base.py\u001b[0m in \u001b[0;36mget_value\u001b[1;34m(self, series, key)\u001b[0m\n\u001b[0;32m   2572\u001b[0m                     \u001b[1;32mraise\u001b[0m \u001b[0mInvalidIndexError\u001b[0m\u001b[1;33m(\u001b[0m\u001b[0mkey\u001b[0m\u001b[1;33m)\u001b[0m\u001b[1;33m\u001b[0m\u001b[0m\n\u001b[0;32m   2573\u001b[0m                 \u001b[1;32melse\u001b[0m\u001b[1;33m:\u001b[0m\u001b[1;33m\u001b[0m\u001b[0m\n\u001b[1;32m-> 2574\u001b[1;33m                     \u001b[1;32mraise\u001b[0m \u001b[0me1\u001b[0m\u001b[1;33m\u001b[0m\u001b[0m\n\u001b[0m\u001b[0;32m   2575\u001b[0m             \u001b[1;32mexcept\u001b[0m \u001b[0mException\u001b[0m\u001b[1;33m:\u001b[0m  \u001b[1;31m# pragma: no cover\u001b[0m\u001b[1;33m\u001b[0m\u001b[0m\n\u001b[0;32m   2576\u001b[0m                 \u001b[1;32mraise\u001b[0m \u001b[0me1\u001b[0m\u001b[1;33m\u001b[0m\u001b[0m\n",
      "\u001b[1;32mH:\\Program Files (x86)\\python3\\lib\\site-packages\\pandas\\core\\indexes\\base.py\u001b[0m in \u001b[0;36mget_value\u001b[1;34m(self, series, key)\u001b[0m\n\u001b[0;32m   2558\u001b[0m         \u001b[1;32mtry\u001b[0m\u001b[1;33m:\u001b[0m\u001b[1;33m\u001b[0m\u001b[0m\n\u001b[0;32m   2559\u001b[0m             return self._engine.get_value(s, k,\n\u001b[1;32m-> 2560\u001b[1;33m                                           tz=getattr(series.dtype, 'tz', None))\n\u001b[0m\u001b[0;32m   2561\u001b[0m         \u001b[1;32mexcept\u001b[0m \u001b[0mKeyError\u001b[0m \u001b[1;32mas\u001b[0m \u001b[0me1\u001b[0m\u001b[1;33m:\u001b[0m\u001b[1;33m\u001b[0m\u001b[0m\n\u001b[0;32m   2562\u001b[0m             \u001b[1;32mif\u001b[0m \u001b[0mlen\u001b[0m\u001b[1;33m(\u001b[0m\u001b[0mself\u001b[0m\u001b[1;33m)\u001b[0m \u001b[1;33m>\u001b[0m \u001b[1;36m0\u001b[0m \u001b[1;32mand\u001b[0m \u001b[0mself\u001b[0m\u001b[1;33m.\u001b[0m\u001b[0minferred_type\u001b[0m \u001b[1;32min\u001b[0m \u001b[1;33m[\u001b[0m\u001b[1;34m'integer'\u001b[0m\u001b[1;33m,\u001b[0m \u001b[1;34m'boolean'\u001b[0m\u001b[1;33m]\u001b[0m\u001b[1;33m:\u001b[0m\u001b[1;33m\u001b[0m\u001b[0m\n",
      "\u001b[1;32mpandas\\_libs\\index.pyx\u001b[0m in \u001b[0;36mpandas._libs.index.IndexEngine.get_value\u001b[1;34m()\u001b[0m\n",
      "\u001b[1;32mpandas\\_libs\\index.pyx\u001b[0m in \u001b[0;36mpandas._libs.index.IndexEngine.get_value\u001b[1;34m()\u001b[0m\n",
      "\u001b[1;32mpandas\\_libs\\index.pyx\u001b[0m in \u001b[0;36mpandas._libs.index.IndexEngine.get_loc\u001b[1;34m()\u001b[0m\n",
      "\u001b[1;32mpandas\\_libs\\hashtable_class_helper.pxi\u001b[0m in \u001b[0;36mpandas._libs.hashtable.PyObjectHashTable.get_item\u001b[1;34m()\u001b[0m\n",
      "\u001b[1;32mpandas\\_libs\\hashtable_class_helper.pxi\u001b[0m in \u001b[0;36mpandas._libs.hashtable.PyObjectHashTable.get_item\u001b[1;34m()\u001b[0m\n",
      "\u001b[1;31mKeyError\u001b[0m: '100285'"
     ]
    }
   ],
   "source": [
    "p_id = '100285'\n",
    "ts = show_project(p_id)\n",
    "ts[30:]"
   ]
  },
  {
   "cell_type": "code",
   "execution_count": 12,
   "metadata": {},
   "outputs": [
    {
     "data": {
      "text/plain": [
       "[{'_id': '99680',\n",
       "  '项目动态信息': [{'关注数': 88, '点赞数': 3},\n",
       "   {'点赞数': 3, '关注数': 89},\n",
       "   {'点赞数': 3, '关注数': 89},\n",
       "   {'点赞数': 3, '关注数': 89},\n",
       "   {'点赞数': 4, '关注数': 89},\n",
       "   {'关注数': 92, '点赞数': 4},\n",
       "   {'关注数': 97, '点赞数': 4},\n",
       "   {'关注数': 98, '点赞数': 4},\n",
       "   {'点赞数': 4, '关注数': 98},\n",
       "   {'点赞数': 4, '关注数': 98},\n",
       "   {'点赞数': 4, '关注数': 98},\n",
       "   {'点赞数': 4, '关注数': 98},\n",
       "   {'点赞数': 4, '关注数': 102},\n",
       "   {'点赞数': 4, '关注数': 104},\n",
       "   {'点赞数': 4, '关注数': 104},\n",
       "   {'点赞数': 4, '关注数': 104},\n",
       "   {'点赞数': 4, '关注数': 108},\n",
       "   {'点赞数': 4, '关注数': 110},\n",
       "   {'点赞数': 4, '关注数': 112},\n",
       "   {'点赞数': 4, '关注数': 112},\n",
       "   {'点赞数': 5, '关注数': 112},\n",
       "   {'点赞数': 5, '关注数': 118},\n",
       "   {'点赞数': 5, '关注数': 122},\n",
       "   {'点赞数': 5, '关注数': 123},\n",
       "   {'点赞数': 5, '关注数': 128},\n",
       "   {'点赞数': 5, '关注数': 136},\n",
       "   {'点赞数': 5, '关注数': 148},\n",
       "   {'点赞数': 5, '关注数': 149},\n",
       "   {'点赞数': 5, '关注数': 149},\n",
       "   {'点赞数': 5, '关注数': 150},\n",
       "   {'点赞数': 5, '关注数': 151},\n",
       "   {'点赞数': 5, '关注数': 153},\n",
       "   {'点赞数': 5, '关注数': 153},\n",
       "   {'点赞数': 5, '关注数': 153},\n",
       "   {'点赞数': 5, '关注数': 155},\n",
       "   {'点赞数': 6, '关注数': 155},\n",
       "   {'点赞数': 6, '关注数': 156},\n",
       "   {'点赞数': 6, '关注数': 157},\n",
       "   {'点赞数': 6, '关注数': 157},\n",
       "   {'点赞数': 6, '关注数': 158},\n",
       "   {'点赞数': 6, '关注数': 160},\n",
       "   {'点赞数': 6, '关注数': 160},\n",
       "   {'点赞数': 6, '关注数': 160},\n",
       "   {'点赞数': 6, '关注数': 160},\n",
       "   {'点赞数': 6, '关注数': 161},\n",
       "   {'点赞数': 6, '关注数': 161},\n",
       "   {'点赞数': 6, '关注数': 161},\n",
       "   {'点赞数': 6, '关注数': 162},\n",
       "   {'点赞数': 6, '关注数': 163},\n",
       "   {'点赞数': 6, '关注数': 165},\n",
       "   {'点赞数': 6, '关注数': 166},\n",
       "   {'点赞数': 6, '关注数': 168},\n",
       "   {'点赞数': 6, '关注数': 168},\n",
       "   {'点赞数': 6, '关注数': 168},\n",
       "   {'点赞数': 6, '关注数': 169},\n",
       "   {'点赞数': 6, '关注数': 169},\n",
       "   {'点赞数': 6, '关注数': 169},\n",
       "   {'点赞数': 6, '关注数': 171},\n",
       "   {'点赞数': 6, '关注数': 173},\n",
       "   {'点赞数': 6, '关注数': 173},\n",
       "   {'点赞数': 6, '关注数': 173},\n",
       "   {'点赞数': 6, '关注数': 173},\n",
       "   {'点赞数': 6, '关注数': 176},\n",
       "   {'点赞数': 6, '关注数': 176},\n",
       "   {'点赞数': 8, '关注数': 185},\n",
       "   {'点赞数': 8, '关注数': 187},\n",
       "   {'点赞数': 8, '关注数': 196},\n",
       "   {'点赞数': 8, '关注数': 196},\n",
       "   {'点赞数': 8, '关注数': 196},\n",
       "   {'点赞数': 8, '关注数': 197},\n",
       "   {'点赞数': 8, '关注数': 197},\n",
       "   {'点赞数': 8, '关注数': 197},\n",
       "   {'点赞数': 8, '关注数': 199},\n",
       "   {'点赞数': 8, '关注数': 200},\n",
       "   {'点赞数': 8, '关注数': 201},\n",
       "   {'点赞数': 8, '关注数': 201},\n",
       "   {'点赞数': 8, '关注数': 202},\n",
       "   {'点赞数': 8, '关注数': 203},\n",
       "   {'点赞数': 8, '关注数': 204},\n",
       "   {'点赞数': 8, '关注数': 204},\n",
       "   {'点赞数': 8, '关注数': 204},\n",
       "   {'点赞数': 8, '关注数': 204},\n",
       "   {'点赞数': 8, '关注数': 205},\n",
       "   {'点赞数': 8, '关注数': 207},\n",
       "   {'点赞数': 8, '关注数': 207},\n",
       "   {'点赞数': 8, '关注数': 208},\n",
       "   {'点赞数': 8, '关注数': 212},\n",
       "   {'点赞数': 8, '关注数': 212},\n",
       "   {'点赞数': 8, '关注数': 212},\n",
       "   {'点赞数': 8, '关注数': 212},\n",
       "   {'点赞数': 8, '关注数': 213},\n",
       "   {'点赞数': 8, '关注数': 213}]}]"
      ]
     },
     "execution_count": 12,
     "metadata": {},
     "output_type": "execute_result"
    }
   ],
   "source": [
    "list(project.find({'_id':'99680'}, projection={'项目动态信息.点赞数':1, '项目动态信息.关注数':1}))"
   ]
  },
  {
   "cell_type": "markdown",
   "metadata": {},
   "source": [
    "## 2、获取失败项目信息"
   ]
  },
  {
   "cell_type": "code",
   "execution_count": 39,
   "metadata": {},
   "outputs": [],
   "source": [
    "def get_fail_proj(collections=f_project, category='众筹失败'):\n",
    "    items = list(collections.find({'详细信息.状态': category}))\n",
    "    d_list = []\n",
    "    for item in items:\n",
    "        cols = {'项目编号': item['项目编号'], '项目名称': item['详细信息']['项目名称'], \n",
    "                '开始时间': item['详细信息']['状态变换时间0-1'], '失败时间': item['失败时间'],\n",
    "                '目标金额': item['详细信息']['目标金额'], '爬取次数': item['详细信息']['爬取次数'], \n",
    "                '所属类别': item['详细信息']['所属类别']}\n",
    "        d_list.append(cols)\n",
    "        \n",
    "    d_pd = pd.DataFrame(d_list, columns=['项目编号', '项目名称', '开始时间', '失败时间', '目标金额', '爬取次数', '所属类别'], \n",
    "                        index=[i for i in range(len(d_list))])\n",
    "\n",
    "    return d_pd"
   ]
  },
  {
   "cell_type": "code",
   "execution_count": 40,
   "metadata": {},
   "outputs": [],
   "source": [
    "def get_fail_dynamic_proj(collections=f_project, category='众筹失败'):\n",
    "    dt_list = {}\n",
    "    items = list(collections.find({'详细信息.状态': category}))\n",
    "    for i, item in enumerate(items, start=1):\n",
    "        dt_list[item['项目编号']] = pd.DataFrame(item['详细信息']['项目动态信息'], \n",
    "                                     columns=['筹集金额', '完成百分比', '支持者数', '关注数', '点赞数', '更新时间'],\n",
    "                                     index=[x['爬取时间'] for x in item['详细信息']['项目动态信息']])\n",
    "    return dt_list  "
   ]
  },
  {
   "cell_type": "code",
   "execution_count": 43,
   "metadata": {},
   "outputs": [
    {
     "data": {
      "text/html": [
       "<div>\n",
       "<style scoped>\n",
       "    .dataframe tbody tr th:only-of-type {\n",
       "        vertical-align: middle;\n",
       "    }\n",
       "\n",
       "    .dataframe tbody tr th {\n",
       "        vertical-align: top;\n",
       "    }\n",
       "\n",
       "    .dataframe thead th {\n",
       "        text-align: right;\n",
       "    }\n",
       "</style>\n",
       "<table border=\"1\" class=\"dataframe\">\n",
       "  <thead>\n",
       "    <tr style=\"text-align: right;\">\n",
       "      <th></th>\n",
       "      <th>项目编号</th>\n",
       "      <th>项目名称</th>\n",
       "      <th>开始时间</th>\n",
       "      <th>失败时间</th>\n",
       "      <th>目标金额</th>\n",
       "      <th>爬取次数</th>\n",
       "      <th>所属类别</th>\n",
       "    </tr>\n",
       "  </thead>\n",
       "  <tbody>\n",
       "    <tr>\n",
       "      <th>0</th>\n",
       "      <td>99138</td>\n",
       "      <td>康风智能空气消毒净化器</td>\n",
       "      <td>2018-04-28 10:11:06.382</td>\n",
       "      <td>2018-05-03 20:30:12.496</td>\n",
       "      <td>200000</td>\n",
       "      <td>58</td>\n",
       "      <td>空气净化</td>\n",
       "    </tr>\n",
       "    <tr>\n",
       "      <th>1</th>\n",
       "      <td>100285</td>\n",
       "      <td>FIIT音乐AI智能跑步机</td>\n",
       "      <td>2018-05-02 19:39:24.605</td>\n",
       "      <td>2018-05-03 20:30:12.496</td>\n",
       "      <td>200000</td>\n",
       "      <td>3</td>\n",
       "      <td>健身装备</td>\n",
       "    </tr>\n",
       "    <tr>\n",
       "      <th>2</th>\n",
       "      <td>100465</td>\n",
       "      <td>一件超吸湿排汗的经典海魂T</td>\n",
       "      <td>2018-05-05 12:00:16.306</td>\n",
       "      <td>2018-05-05 18:00:02.730</td>\n",
       "      <td>300000</td>\n",
       "      <td>4</td>\n",
       "      <td>原创设计</td>\n",
       "    </tr>\n",
       "    <tr>\n",
       "      <th>3</th>\n",
       "      <td>100415</td>\n",
       "      <td>大五星枇杷 顺丰到家</td>\n",
       "      <td>2018-05-05 12:00:16.307</td>\n",
       "      <td>2018-05-06 09:57:06.568</td>\n",
       "      <td>30000</td>\n",
       "      <td>12</td>\n",
       "      <td>食品</td>\n",
       "    </tr>\n",
       "    <tr>\n",
       "      <th>4</th>\n",
       "      <td>98928</td>\n",
       "      <td>呆米甲醛/PM2.5监测仪</td>\n",
       "      <td>2018-05-03 20:30:30.059</td>\n",
       "      <td>2018-05-06 10:18:14.966</td>\n",
       "      <td>100000</td>\n",
       "      <td>27</td>\n",
       "      <td>智能家居</td>\n",
       "    </tr>\n",
       "    <tr>\n",
       "      <th>5</th>\n",
       "      <td>100281</td>\n",
       "      <td>网易味央&amp;五芳斋匠造粽礼盒</td>\n",
       "      <td>2018-05-05 12:00:16.307</td>\n",
       "      <td>2018-05-06 10:18:14.966</td>\n",
       "      <td>50000</td>\n",
       "      <td>14</td>\n",
       "      <td>食品</td>\n",
       "    </tr>\n",
       "  </tbody>\n",
       "</table>\n",
       "</div>"
      ],
      "text/plain": [
       "     项目编号           项目名称                    开始时间                    失败时间  \\\n",
       "0   99138    康风智能空气消毒净化器 2018-04-28 10:11:06.382 2018-05-03 20:30:12.496   \n",
       "1  100285  FIIT音乐AI智能跑步机 2018-05-02 19:39:24.605 2018-05-03 20:30:12.496   \n",
       "2  100465  一件超吸湿排汗的经典海魂T 2018-05-05 12:00:16.306 2018-05-05 18:00:02.730   \n",
       "3  100415     大五星枇杷 顺丰到家 2018-05-05 12:00:16.307 2018-05-06 09:57:06.568   \n",
       "4   98928  呆米甲醛/PM2.5监测仪 2018-05-03 20:30:30.059 2018-05-06 10:18:14.966   \n",
       "5  100281  网易味央&五芳斋匠造粽礼盒 2018-05-05 12:00:16.307 2018-05-06 10:18:14.966   \n",
       "\n",
       "     目标金额  爬取次数  所属类别  \n",
       "0  200000    58  空气净化  \n",
       "1  200000     3  健身装备  \n",
       "2  300000     4  原创设计  \n",
       "3   30000    12    食品  \n",
       "4  100000    27  智能家居  \n",
       "5   50000    14    食品  "
      ]
     },
     "execution_count": 43,
     "metadata": {},
     "output_type": "execute_result"
    }
   ],
   "source": [
    "get_fail_proj(category='众筹失败')"
   ]
  },
  {
   "cell_type": "code",
   "execution_count": 40,
   "metadata": {},
   "outputs": [
    {
     "data": {
      "text/plain": [
       "{'100040':                          筹集金额  完成百分比  支持者数  关注数  点赞数                更新时间\n",
       " 2018-04-28 10:11:23.488     0    0.0     0    2    0 2018-04-27 21:39:39\n",
       " 2018-04-28 11:58:49.040     0    0.0     0   12    6 2018-04-28 11:32:58\n",
       " 2018-04-28 12:04:36.120     0    0.0     0   12    6 2018-04-28 11:32:58\n",
       " 2018-04-28 12:06:32.528     0    0.0     0   12    6 2018-04-28 11:32:58\n",
       " 2018-04-28 14:00:35.116     0    0.0     0   13    6 2018-04-28 13:34:11\n",
       " 2018-04-28 16:06:53.645     0    0.0     0   17    7 2018-04-28 14:38:04\n",
       " 2018-04-28 18:33:43.891     0    0.0     0   17    7 2018-04-28 18:31:53\n",
       " 2018-04-28 19:08:30.519     0    0.0     0   17    7 2018-04-28 18:31:53\n",
       " 2018-04-28 20:06:46.594     0    0.0     0   18    8 2018-04-28 19:53:14\n",
       " 2018-04-28 20:13:37.821     0    0.0     0   18    8 2018-04-28 19:53:14\n",
       " 2018-04-28 20:28:01.364     0    0.0     0   18    8 2018-04-28 19:53:14\n",
       " 2018-04-28 20:29:36.850     0    0.0     0   18    8 2018-04-28 19:53:14\n",
       " 2018-04-28 21:48:05.994     0    0.0     0   18    8 2018-04-28 19:53:14\n",
       " 2018-04-28 23:25:58.429     0    0.0     0   18    8 2018-04-28 19:53:14\n",
       " 2018-04-28 23:31:01.598     0    0.0     0   18    8 2018-04-28 19:53:14\n",
       " 2018-04-29 00:00:35.245     0    0.0     0   18    8 2018-04-28 19:53:14\n",
       " 2018-04-29 02:00:37.640     0    0.0     0   18    8 2018-04-28 19:53:14\n",
       " 2018-04-29 04:00:33.661     0    0.0     0   18    8 2018-04-28 19:53:14\n",
       " 2018-04-29 06:00:38.894     0    0.0     0   18    8 2018-04-28 19:53:14\n",
       " 2018-04-29 07:09:22.411     0    0.0     0   18    8 2018-04-28 19:53:14\n",
       " 2018-04-29 08:00:33.343     0    0.0     0   18    8 2018-04-28 19:53:14\n",
       " 2018-04-29 10:00:33.814     0    0.0     0   18    8 2018-04-28 19:53:14\n",
       " 2018-04-29 12:00:30.656     0    0.0     0   18    8 2018-04-28 19:53:14\n",
       " 2018-04-29 14:00:30.983     0    0.0     0   19    8 2018-04-29 12:42:36\n",
       " 2018-04-29 16:00:32.399     0    0.0     0   19    8 2018-04-29 12:42:36\n",
       " 2018-04-29 21:22:35.406     0    0.0     0   19    8 2018-04-29 12:42:36\n",
       " 2018-04-30 10:00:29.285     0    0.0     0   20    8 2018-04-30 00:05:34\n",
       " 2018-04-30 12:00:31.635     0    0.0     0   20    8 2018-04-30 00:05:34\n",
       " 2018-04-30 14:00:30.548     0    0.0     0   20    8 2018-04-30 00:05:34\n",
       " 2018-04-30 16:00:33.921     0    0.0     0   20    8 2018-04-30 00:05:34\n",
       " ...                       ...    ...   ...  ...  ...                 ...\n",
       " 2018-05-01 20:00:27.014     0    0.0     0   24    8 2018-05-01 19:39:14\n",
       " 2018-05-01 20:19:59.572     0    0.0     0   24    8 2018-05-01 19:39:14\n",
       " 2018-05-01 21:11:19.555     0    0.0     0   25    8 2018-05-01 20:50:35\n",
       " 2018-05-01 22:14:59.924     0    0.0     0   25    8 2018-05-01 20:50:35\n",
       " 2018-05-02 00:00:27.633     0    0.0     0   25    8 2018-05-01 20:50:35\n",
       " 2018-05-02 02:00:27.806     0    0.0     0   25    8 2018-05-01 20:50:35\n",
       " 2018-05-02 04:00:27.137     0    0.0     0   25    8 2018-05-01 20:50:35\n",
       " 2018-05-02 06:00:27.030     0    0.0     0   25    8 2018-05-01 20:50:35\n",
       " 2018-05-02 08:00:26.524     0    0.0     0   25    8 2018-05-01 20:50:35\n",
       " 2018-05-02 10:00:18.075     0    0.0     0   25    9 2018-05-02 09:21:40\n",
       " 2018-05-02 12:00:17.869     0    0.0     0   27   12 2018-05-02 11:49:02\n",
       " 2018-05-02 14:00:18.700     0    0.0     0   28   12 2018-05-02 12:36:32\n",
       " 2018-05-02 16:00:18.112     0    0.0     0   28   13 2018-05-02 14:16:16\n",
       " 2018-05-02 18:37:20.644     0    0.0     0   28   13 2018-05-02 14:16:16\n",
       " 2018-05-02 19:39:26.558     0    0.0     0   28   13 2018-05-02 14:16:16\n",
       " 2018-05-02 20:00:20.002     0    0.0     0   28   13 2018-05-02 14:16:16\n",
       " 2018-05-02 22:00:20.289     0    0.0     0   28   13 2018-05-02 14:16:16\n",
       " 2018-05-03 07:59:06.546     0    0.0     0   28   13 2018-05-02 14:16:16\n",
       " 2018-05-03 08:09:09.195     0    0.0     0   28   13 2018-05-02 14:16:16\n",
       " 2018-05-03 20:30:30.941     0    0.0     0   31   16 2018-05-03 20:11:21\n",
       " 2018-05-03 22:44:14.133     0    0.0     0   31   16 2018-05-03 20:11:21\n",
       " 2018-05-04 18:45:37.047  5390    5.0    25   37   18 2018-05-04 16:31:19\n",
       " 2018-05-04 20:36:37.767  6045    6.0    28   37   18 2018-05-04 16:31:19\n",
       " 2018-05-04 20:42:11.003  6045    6.0    28   37   18 2018-05-04 16:31:19\n",
       " 2018-05-04 21:38:57.995  6045    6.0    28   38   18 2018-05-04 21:04:12\n",
       " 2018-05-04 21:48:04.463  6045    6.0    28   38   18 2018-05-04 21:04:12\n",
       " 2018-05-04 22:01:19.195  6045    6.0    28   38   18 2018-05-04 21:04:12\n",
       " 2018-05-04 22:46:43.993  6045    6.0    28   38   18 2018-05-04 21:04:12\n",
       " 2018-05-05 00:01:23.188  6045    6.0    28   39   18 2018-05-04 23:02:28\n",
       " 2018-05-05 07:39:33.385  6096    6.0    29   41   18 2018-05-05 05:24:48\n",
       " \n",
       " [75 rows x 6 columns]}"
      ]
     },
     "execution_count": 40,
     "metadata": {},
     "output_type": "execute_result"
    }
   ],
   "source": [
    "get_fail_dynamic_proj(category='众筹未成功')"
   ]
  },
  {
   "cell_type": "code",
   "execution_count": 28,
   "metadata": {},
   "outputs": [],
   "source": [
    "dyn_fail = get_fail_dynamic_proj()\n",
    "fail_proj = get_fail_proj(collections=f_project)"
   ]
  },
  {
   "cell_type": "code",
   "execution_count": 33,
   "metadata": {},
   "outputs": [
    {
     "data": {
      "text/html": [
       "<div>\n",
       "<style scoped>\n",
       "    .dataframe tbody tr th:only-of-type {\n",
       "        vertical-align: middle;\n",
       "    }\n",
       "\n",
       "    .dataframe tbody tr th {\n",
       "        vertical-align: top;\n",
       "    }\n",
       "\n",
       "    .dataframe thead th {\n",
       "        text-align: right;\n",
       "    }\n",
       "</style>\n",
       "<table border=\"1\" class=\"dataframe\">\n",
       "  <thead>\n",
       "    <tr style=\"text-align: right;\">\n",
       "      <th></th>\n",
       "      <th>项目编号</th>\n",
       "      <th>项目名称</th>\n",
       "      <th>开始时间</th>\n",
       "      <th>失败时间</th>\n",
       "      <th>目标金额</th>\n",
       "      <th>爬取次数</th>\n",
       "      <th>所属类别</th>\n",
       "    </tr>\n",
       "  </thead>\n",
       "  <tbody>\n",
       "    <tr>\n",
       "      <th>0</th>\n",
       "      <td>99138</td>\n",
       "      <td>康风智能空气消毒净化器</td>\n",
       "      <td>2018-04-28 10:11:06.382</td>\n",
       "      <td>2018-05-03 20:30:12.496</td>\n",
       "      <td>200000</td>\n",
       "      <td>58</td>\n",
       "      <td>空气净化</td>\n",
       "    </tr>\n",
       "    <tr>\n",
       "      <th>1</th>\n",
       "      <td>100285</td>\n",
       "      <td>FIIT音乐AI智能跑步机</td>\n",
       "      <td>2018-05-02 19:39:24.605</td>\n",
       "      <td>2018-05-03 20:30:12.496</td>\n",
       "      <td>200000</td>\n",
       "      <td>3</td>\n",
       "      <td>健身装备</td>\n",
       "    </tr>\n",
       "  </tbody>\n",
       "</table>\n",
       "</div>"
      ],
      "text/plain": [
       "     项目编号           项目名称                    开始时间                    失败时间  \\\n",
       "0   99138    康风智能空气消毒净化器 2018-04-28 10:11:06.382 2018-05-03 20:30:12.496   \n",
       "1  100285  FIIT音乐AI智能跑步机 2018-05-02 19:39:24.605 2018-05-03 20:30:12.496   \n",
       "\n",
       "     目标金额  爬取次数  所属类别  \n",
       "0  200000    58  空气净化  \n",
       "1  200000     3  健身装备  "
      ]
     },
     "execution_count": 33,
     "metadata": {},
     "output_type": "execute_result"
    }
   ],
   "source": [
    "fail_proj"
   ]
  },
  {
   "cell_type": "code",
   "execution_count": 41,
   "metadata": {},
   "outputs": [
    {
     "name": "stdout",
     "output_type": "stream",
     "text": [
      "100285 FIIT音乐AI智能跑步机 3 健身装备\n"
     ]
    },
    {
     "data": {
      "text/html": [
       "<div>\n",
       "<style scoped>\n",
       "    .dataframe tbody tr th:only-of-type {\n",
       "        vertical-align: middle;\n",
       "    }\n",
       "\n",
       "    .dataframe tbody tr th {\n",
       "        vertical-align: top;\n",
       "    }\n",
       "\n",
       "    .dataframe thead th {\n",
       "        text-align: right;\n",
       "    }\n",
       "</style>\n",
       "<table border=\"1\" class=\"dataframe\">\n",
       "  <thead>\n",
       "    <tr style=\"text-align: right;\">\n",
       "      <th></th>\n",
       "      <th>筹集金额</th>\n",
       "      <th>完成百分比</th>\n",
       "      <th>支持者数</th>\n",
       "      <th>关注数</th>\n",
       "      <th>点赞数</th>\n",
       "      <th>更新时间</th>\n",
       "    </tr>\n",
       "  </thead>\n",
       "  <tbody>\n",
       "    <tr>\n",
       "      <th>2018-05-02 19:40:09.445</th>\n",
       "      <td>0</td>\n",
       "      <td>0.0</td>\n",
       "      <td>0</td>\n",
       "      <td>0</td>\n",
       "      <td>0</td>\n",
       "      <td>2018-05-02 19:40:10.359</td>\n",
       "    </tr>\n",
       "    <tr>\n",
       "      <th>2018-05-02 20:00:57.578</th>\n",
       "      <td>0</td>\n",
       "      <td>0.0</td>\n",
       "      <td>0</td>\n",
       "      <td>0</td>\n",
       "      <td>0</td>\n",
       "      <td>2018-05-02 20:00:58.219</td>\n",
       "    </tr>\n",
       "    <tr>\n",
       "      <th>2018-05-02 22:01:00.646</th>\n",
       "      <td>0</td>\n",
       "      <td>0.0</td>\n",
       "      <td>0</td>\n",
       "      <td>6</td>\n",
       "      <td>0</td>\n",
       "      <td>2018-05-02 21:46:22.000</td>\n",
       "    </tr>\n",
       "  </tbody>\n",
       "</table>\n",
       "</div>"
      ],
      "text/plain": [
       "                         筹集金额  完成百分比  支持者数  关注数  点赞数                    更新时间\n",
       "2018-05-02 19:40:09.445     0    0.0     0    0    0 2018-05-02 19:40:10.359\n",
       "2018-05-02 20:00:57.578     0    0.0     0    0    0 2018-05-02 20:00:58.219\n",
       "2018-05-02 22:01:00.646     0    0.0     0    6    0 2018-05-02 21:46:22.000"
      ]
     },
     "execution_count": 41,
     "metadata": {},
     "output_type": "execute_result"
    }
   ],
   "source": [
    "i = 1\n",
    "p_id = fail_proj['项目编号'][i]\n",
    "p_name = fail_proj['项目名称'][i]\n",
    "p_times = fail_proj['爬取次数'][i]\n",
    "p_cat = fail_proj['所属类别'][i]\n",
    "print(p_id, p_name, p_times, p_cat)\n",
    "dyn_fail[p_id]"
   ]
  },
  {
   "cell_type": "code",
   "execution_count": 42,
   "metadata": {},
   "outputs": [],
   "source": [
    "project.find_one({'_id': '100040'})"
   ]
  },
  {
   "cell_type": "markdown",
   "metadata": {},
   "source": [
    "## 3、将失败项目重新设置为成功状态"
   ]
  },
  {
   "cell_type": "code",
   "execution_count": 65,
   "metadata": {},
   "outputs": [],
   "source": [
    "import datetime"
   ]
  },
  {
   "cell_type": "code",
   "execution_count": 36,
   "metadata": {},
   "outputs": [
    {
     "name": "stdout",
     "output_type": "stream",
     "text": [
      "E11000 duplicate key error collection: moniter_crowdfunding.projects index: _id_ dup key: { : \"99138\" }\n",
      "E11000 duplicate key error collection: moniter_crowdfunding.projects index: _id_ dup key: { : \"100285\" }\n",
      "E11000 duplicate key error collection: moniter_crowdfunding.projects index: _id_ dup key: { : \"100040\" }\n",
      "E11000 duplicate key error collection: moniter_crowdfunding.projects index: _id_ dup key: { : \"100465\" }\n",
      "E11000 duplicate key error collection: moniter_crowdfunding.projects index: _id_ dup key: { : \"100415\" }\n",
      "E11000 duplicate key error collection: moniter_crowdfunding.projects index: _id_ dup key: { : \"99706\" }\n",
      "E11000 duplicate key error collection: moniter_crowdfunding.projects index: _id_ dup key: { : \"98928\" }\n",
      "E11000 duplicate key error collection: moniter_crowdfunding.projects index: _id_ dup key: { : \"100281\" }\n",
      "E11000 duplicate key error collection: moniter_crowdfunding.projects index: _id_ dup key: { : \"100051\" }\n",
      "E11000 duplicate key error collection: moniter_crowdfunding.projects index: _id_ dup key: { : \"99138\" }\n",
      "E11000 duplicate key error collection: moniter_crowdfunding.projects index: _id_ dup key: { : \"100285\" }\n",
      "E11000 duplicate key error collection: moniter_crowdfunding.projects index: _id_ dup key: { : \"100465\" }\n"
     ]
    }
   ],
   "source": [
    "fail_projs = list(f_project.find({}))\n",
    "for proj in fail_projs:\n",
    "    x = proj['详细信息']\n",
    "    p_id = x['_id']\n",
    "    try:\n",
    "        project.insert_one(x)\n",
    "        project.update_one({'_id': p_id}, {'$set': {'状态': '众筹中'}})\n",
    "        print(p_id, '数据转移成功')\n",
    "    except Exception as e:\n",
    "        print(e)"
   ]
  },
  {
   "cell_type": "code",
   "execution_count": 70,
   "metadata": {},
   "outputs": [],
   "source": [
    "fail_projs = list(f_project.find({}))"
   ]
  },
  {
   "cell_type": "code",
   "execution_count": 71,
   "metadata": {},
   "outputs": [
    {
     "name": "stdout",
     "output_type": "stream",
     "text": [
      "100285 FIIT音乐AI智能跑步机 众筹失败\n",
      "100465 一件超吸湿排汗的经典海魂T 众筹失败\n"
     ]
    }
   ],
   "source": [
    "for x in fail_projs:\n",
    "    print(x['项目编号'], x['详细信息']['项目名称'], x['详细信息']['状态'])"
   ]
  },
  {
   "cell_type": "code",
   "execution_count": 47,
   "metadata": {},
   "outputs": [],
   "source": [
    "f_ids = [(x['项目编号'], x['详细信息']['项目名称']) for x in fail_projs]"
   ]
  },
  {
   "cell_type": "code",
   "execution_count": 50,
   "metadata": {},
   "outputs": [
    {
     "name": "stdout",
     "output_type": "stream",
     "text": [
      "99138 康风智能空气消毒净化器 ，从failure_projects中删除！\n",
      "100285 'NoneType' object is not subscriptable\n",
      "100040 iBranco上上筷礼盒 ，从failure_projects中删除！\n",
      "100465 'NoneType' object is not subscriptable\n",
      "100415 大五星枇杷 顺丰到家 ，从failure_projects中删除！\n",
      "99706 扶贫普洱茶-助力佤族脱贫 ，从failure_projects中删除！\n",
      "98928 呆米甲醛/PM2.5监测仪 ，从failure_projects中删除！\n",
      "100281 网易味央&五芳斋匠造粽礼盒 ，从failure_projects中删除！\n",
      "100051 观垚茶器-紫砂六师共铸传承 ，从failure_projects中删除！\n",
      "99138 康风智能空气消毒净化器 ，从failure_projects中删除！\n",
      "100285 'NoneType' object is not subscriptable\n",
      "100465 'NoneType' object is not subscriptable\n",
      "100285 'NoneType' object is not subscriptable\n",
      "100465 'NoneType' object is not subscriptable\n"
     ]
    }
   ],
   "source": [
    "for p_id, p_name in f_ids:\n",
    "    try:\n",
    "        x = project.find_one({'_id': p_id}, projection={'_id':True, '项目名称':True})\n",
    "        if p_name == x['项目名称']:\n",
    "            f_project.delete_one({'项目编号': p_id})\n",
    "            print(p_id, p_name, '，从failure_projects中删除！')\n",
    "        else:\n",
    "            print('的确是众筹失败项目:', p_id)\n",
    "    except Exception as e:\n",
    "        print(p_id, e)"
   ]
  }
 ],
 "metadata": {
  "kernelspec": {
   "display_name": "Python 3",
   "language": "python",
   "name": "python3"
  },
  "language_info": {
   "codemirror_mode": {
    "name": "ipython",
    "version": 3
   },
   "file_extension": ".py",
   "mimetype": "text/x-python",
   "name": "python",
   "nbconvert_exporter": "python",
   "pygments_lexer": "ipython3",
   "version": "3.6.4"
  },
  "widgets": {
   "application/vnd.jupyter.widget-state+json": {
    "state": {},
    "version_major": 2,
    "version_minor": 0
   }
  }
 },
 "nbformat": 4,
 "nbformat_minor": 2
}
