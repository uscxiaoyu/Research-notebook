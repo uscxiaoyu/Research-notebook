{
 "cells": [
  {
   "cell_type": "code",
   "execution_count": 1,
   "metadata": {
    "collapsed": false
   },
   "outputs": [],
   "source": [
    "%matplotlib inline\n",
    "from __future__ import division\n",
    "from scipy.integrate import odeint\n",
    "from scipy.optimize import minimize,root,fixed_point\n",
    "from copy import deepcopy as dc\n",
    "from math import e\n",
    "from numpy import exp,pi,sqrt,log\n",
    "import time\n",
    "import numpy as np\n",
    "import pylab as pl\n",
    "pl.rcParams.update({'font.size': 15, 'font.family': 'STIXGeneral', 'mathtext.fontset': 'stix'})"
   ]
  },
  {
   "cell_type": "code",
   "execution_count": 20,
   "metadata": {
    "collapsed": true
   },
   "outputs": [],
   "source": [
    "import pickle"
   ]
  },
  {
   "cell_type": "markdown",
   "metadata": {},
   "source": [
    "### 1 生成度分布序列\n",
    "\n",
    "$d$表示平均度，$x$为度分布函数参数，$c$为标准化常数，$k\\_list$为度列表。Gaussian distribution: $p(k)=c\\frac{e^\\frac{-(k-<k>)^2}{2\\sigma^2}}{\\sigma\\sqrt{2\\pi}}$,Lognormal distribution: $p(k)=c\\frac{e^\\frac{-(log(k)-<k>)^2}{2\\sigma^2}}{\\sigma\\sqrt{2\\pi}}$,Exponential distribution: $p(k)=c\\frac{e^{-k\\lambda}}{\\lambda}$,Power law distribution: $p(k)=ck^{-\\tau}$\n"
   ]
  },
  {
   "cell_type": "code",
   "execution_count": 64,
   "metadata": {
    "collapsed": true
   },
   "outputs": [],
   "source": [
    "class Gener_PK:\n",
    "    k_list = np.arange(1,20)\n",
    "    c = 2\n",
    "    def __init__(self,d=6,g='power'):\n",
    "        self.d = d\n",
    "        self.g = g\n",
    "        \n",
    "    def gauss(self,x):\n",
    "        pk_list = self.c*e**(-(self.k_list-x[0])**2/(2*x[1]**2))/(x[1]*sqrt(2*pi))   \n",
    "        return np.sum(pk_list)-1,np.dot(pk_list,self.k_list)-self.d\n",
    "\n",
    "    def logno(self,x):\n",
    "        pk_list = self.c*e**(-(log(self.k_list)-x[0])**2/(2*x[1]**2))/(self.k_list*x[1]*sqrt(2*pi))\n",
    "        return np.sum(pk_list)-1,np.dot(pk_list,self.k_list)-self.d\n",
    "\n",
    "    def expon(self,x):\n",
    "        pk_list = x[1]*e**(-self.k_list*x[0])\n",
    "        return np.sum(pk_list)-1,np.dot(pk_list,self.k_list)-self.d\n",
    "\n",
    "    def power(self,x):\n",
    "        pk_list = x[1]*self.k_list**(-x[0])\n",
    "        return np.sum(pk_list)-1,np.dot(pk_list,self.k_list)-self.d\n",
    "    \n",
    "    def get_pk(self):\n",
    "        if self.g == 'gauss':\n",
    "            sol = root(self.gauss,[6,1],args=(),method='lm')\n",
    "            p_k = self.c*e**(-(self.k_list-sol.x[0])**2/(2*sol.x[1]**2))/(sol.x[1]*sqrt(2*pi))\n",
    "        elif self.g == 'logno':\n",
    "            sol = root(self.logno,[5,2],args=(),method='lm')\n",
    "            p_k = self.c*e**(-(log(self.k_list)-sol.x[0])**2/(2*sol.x[1]**2))/(self.k_list*sol.x[1]*sqrt(2*pi))\n",
    "        elif self.g == 'expon':\n",
    "            sol = root(self.expon,[0.5,1.1],args=(),method='lm')\n",
    "            p_k = sol.x[1]*e**(-self.k_list*sol.x[0])       \n",
    "        else:\n",
    "            sol = root(self.power,[1,1],args=(),method='lm')\n",
    "            p_k = sol.x[1]*self.k_list**(-sol.x[0]) \n",
    "            \n",
    "        return p_k"
   ]
  },
  {
   "cell_type": "markdown",
   "metadata": {},
   "source": [
    "### 2 定义扩散微分方程组\n",
    "\n",
    "#### F为扩散率的起始点，T为取样的时间，P_k为度分布列表，K_list为度列表，p和q分别为创新系数和模仿系数，m为潜在顾客数量  \n",
    "首先定义$\\frac{dF_{k}(t)}{dt}$，然后利用scipy.integrate.odeint生成$F_{k}(t)$的连续时间扩散序列"
   ]
  },
  {
   "cell_type": "code",
   "execution_count": 3,
   "metadata": {
    "collapsed": false
   },
   "outputs": [],
   "source": [
    "class Network_Diffuse:\n",
    "    k_list = np.arange(1,100)\n",
    "    def __init__(self,S,d=6,g='power'):\n",
    "        self.d = d\n",
    "        self.g = g\n",
    "        self.S = np.array(S)\n",
    "        self.len_s = len(self.S)\n",
    "        self.T = np.arange(self.len_s)\n",
    "        self.F = np.zeros_like(self.k_list)\n",
    "    \n",
    "    def evolve(self,F,t,p,q):\n",
    "        theta = np.sum(F*self.p_k*self.k_list)/np.dot(self.p_k,self.k_list)\n",
    "        return (1-F)*(p+q*self.k_list*theta)\n",
    "\n",
    "    def gener_simulation(self,params):\n",
    "        self.d = params[0]\n",
    "        get_pk = Gener_PK(self.d)\n",
    "        get_pk.g = self.g\n",
    "        self.p_k = get_pk.get_pk()\n",
    "        \n",
    "        p,q,m = params[1:]\n",
    "        t = self.T\n",
    "        track = m*self.p_k*odeint(self.evolve,self.F,t,args=(p,q))\n",
    "        accum_diff = np.sum(track,axis=1)\n",
    "        insta_diff = np.zeros_like(self.T)\n",
    "        for i in range(1,self.len_s):\n",
    "            insta_diff[i] = accum_diff[i] - accum_diff[i-1]   \n",
    "        return insta_diff\n",
    "\n",
    "    def residuals(self,params):#残差平方和\n",
    "        return np.sum(np.square(self.S - self.gener_simulation(params)))\n",
    "\n",
    "    def mse(self,params):#均方误差\n",
    "        simul_S = self.gener_simulation(params)\n",
    "        return np.mean(np.square(simul_S - self.S))\n",
    "\n",
    "    def cal_R_sigma(self,params):\n",
    "        a = self.gener_simulation(params)\n",
    "        sse = np.sum(np.square(self.S-a))\n",
    "        ave_y = np.mean(self.S)\n",
    "        ssl = np.sum(np.square(self.S-ave_y))\n",
    "        R_2 = (ssl-sse)/ssl\n",
    "        return R_2"
   ]
  },
  {
   "cell_type": "code",
   "execution_count": 56,
   "metadata": {
    "collapsed": false
   },
   "outputs": [],
   "source": [
    "class Random_Grid_Search:\n",
    "    t_n = 500 #抽样量\n",
    "    c_n = 50 #保留参数量\n",
    "    threshold = 1e-4 #循环停止阈值\n",
    "    end_steps = 150\n",
    "    orig_points = [] #初始化边界点\n",
    "    k_list = np.arange(1,20)\n",
    "    \n",
    "    def __init__(self,s,d=6,g='power'): #初始化实例参数\n",
    "        self.s,self.s_len = np.array(s),len(s)\n",
    "        self.d,self.g = d,g\n",
    "        self.T = np.arange(self.s_len+1) #包括0时刻扩散量\n",
    "        self.F = np.zeros_like(self.k_list)\n",
    "        get_pk = Gener_PK(self.d)\n",
    "        get_pk.g = self.g\n",
    "        self.p_k = get_pk.get_pk() \n",
    "        self.para_range = [[1e-6,0.1],[1e-3/d,1/d],[sum(s),5*sum(s)]]  #参数范围\n",
    "        self.p_range = [[1e-6,0.1],[1e-3/d,1/d],[sum(s),5*sum(s)]]  #用于产生边界节点的参数范围 \n",
    "                        \n",
    "    def gener_orig(self): #递归产生边界点\n",
    "        if len(self.p_range) == 0:\n",
    "            return\n",
    "        else:  \n",
    "            pa = self.p_range[-1]\n",
    "            if self.orig_points == []:\n",
    "                self.orig_points = [[pa[0]],[pa[1]]]  #初始化,排除orig_points为空的情形\n",
    "            else:\n",
    "                self.orig_points = [[pa[0]]+x for x in self.orig_points]+[[pa[1]]+x for x in self.orig_points]  #二分裂\n",
    "            self.p_range.pop()\n",
    "            return self.gener_orig()\n",
    "    \n",
    "    def sample(self,c_range): #抽样参数点\n",
    "        p_list = []\n",
    "        for pa in c_range:\n",
    "            if isinstance(pa[0],float):\n",
    "                x = (pa[1]-pa[0])*np.random.random(self.t_n) + pa[0]\n",
    "            else:\n",
    "                x = np.random.randint(low=pa[0],high=pa[1]+1,size=self.t_n)\n",
    "            p_list.append(x)\n",
    "\n",
    "        p_list = np.array(p_list).T\n",
    "        return p_list.tolist()\n",
    "    \n",
    "    def evolve(self,F,t,p,q):\n",
    "        theta = np.sum(F*self.p_k*self.k_list)/self.d\n",
    "        return (1-F)*(p+q*self.k_list*theta)\n",
    "\n",
    "    def f(self,params):\n",
    "        p,q,m = params\n",
    "        t = self.T\n",
    "        track = m*self.p_k*odeint(self.evolve,self.F,t,args=(p,q))\n",
    "        accum_diff = np.sum(track,axis=1)\n",
    "        insta_diff = np.zeros_like(self.s)\n",
    "        for i in range(self.s_len):\n",
    "            insta_diff[i] = accum_diff[i+1] - accum_diff[i]   \n",
    "        return insta_diff\n",
    "    \n",
    "    def r2(self,params):\n",
    "        f_act = self.f(params)\n",
    "        tse = np.sum(np.square(self.s-f_act))\n",
    "        mean_y = np.mean(self.s)\n",
    "        ssl = np.sum(np.square(self.s-mean_y))\n",
    "        R_2 = (ssl-tse)/ssl\n",
    "        return R_2\n",
    "\n",
    "    def mse(self,params):  #定义适应度函数（mse）\n",
    "        a = self.f(params)\n",
    "        sse = np.sum(np.square(self.s-a))\n",
    "        return np.sqrt(sse)/self.s_len #均方误\n",
    "    \n",
    "    def optima_search(self):\n",
    "        self.gener_orig()\n",
    "        c_range = dc(self.para_range)\n",
    "        samp = self.sample(c_range)\n",
    "        solution = sorted([self.mse(x)]+x for x in samp+self.orig_points)[:self.c_n]\n",
    "        u = 1\n",
    "        while 1:\n",
    "            params_min = np.min(np.array(solution),0) #最小值\n",
    "            params_max = np.max(np.array(solution),0) #最大值\n",
    "            c_range = [[params_min[j+1],params_max[j+1]] for j in range(len(c_range))] #重新定界\n",
    "            samp = self.sample(c_range)\n",
    "            solution = sorted([[self.mse(x)]+x for x in samp]+solution)[:self.c_n]\n",
    "            r = sorted([x[0] for x in solution])\n",
    "            v = (r[-1]-r[0])/r[0]\n",
    "            if v < self.threshold:        \n",
    "                break\n",
    "            if u > self.end_steps:\n",
    "                print 'Searching ends in %s runs'%self.end_steps\n",
    "                break\n",
    "            u+=1\n",
    "        return solution[0]  #sse,p,q,m"
   ]
  },
  {
   "cell_type": "code",
   "execution_count": 5,
   "metadata": {
    "collapsed": true
   },
   "outputs": [],
   "source": [
    "data_set = {'room air conditioners':(np.arange(1949,1962),[96,195,238,380,1045,1230,1267,1828,1586,1673,1800,1580,1500]),\n",
    "                        'color televisions':(np.arange(1963,1971),[747,1480,2646,5118,5777,5982,5962,4631]),\n",
    "                        'clothers dryers':(np.arange(1949,1962),[106,319,492,635,737,890,1397,1523,1294,1240,1425,1260,1236]),\n",
    "                        'ultrasound':(np.arange(1965,1979),[5,3,2,5,7,12,6,16,16,28,28,21,13,6]),\n",
    "                        'mammography':(np.arange(1965,1979),[2,2,2,3,4,9,7,16,23,24,15,6,5,1]),\n",
    "                        'foreign language':(np.arange(1952,1964),[1.25,0.77,0.86,0.48,1.34,3.56,3.36,6.24,5.95,6.24,4.89,0.25]),\n",
    "                        'accelerated program':(np.arange(1952,1964),[0.67,0.48,2.11,0.29,2.59,2.21,16.80,11.04,14.40,6.43,6.15,1.15])}\n",
    "china_set = {'color tv':(np.arange(1997,2013),[2.6,1.2,2.11,3.79,3.6,7.33,7.18,5.29,8.42,5.68,6.57,5.49,6.48,5.42,10.72,5.15]),\n",
    "                         'mobile phone':(np.arange(1997,2013),[1.7,1.6,3.84,12.36,14.5,28.89,27.18,21.33,25.6,15.88,12.3,6.84,9.02,7.82,16.39,7.39]),\n",
    "                         }"
   ]
  },
  {
   "cell_type": "code",
   "execution_count": 6,
   "metadata": {
    "collapsed": false
   },
   "outputs": [],
   "source": [
    "tx = 'clothers dryers'\n",
    "S = data_set[tx][1]"
   ]
  },
  {
   "cell_type": "code",
   "execution_count": 65,
   "metadata": {
    "collapsed": true
   },
   "outputs": [],
   "source": [
    "fit_dict = {}"
   ]
  },
  {
   "cell_type": "code",
   "execution_count": 66,
   "metadata": {
    "collapsed": false
   },
   "outputs": [
    {
     "name": "stdout",
     "output_type": "stream",
     "text": [
      "============================power=============================\n",
      "*****3******\n",
      "Searching ends in 150 runs\n",
      "    time elasped: 103.358356298 s\n",
      "    r2:0.9383,    p:0.0087,   q:0.0716,    m:24319\n",
      "    mean:3    std:0.115056150474\n",
      "*****4******\n",
      "Searching ends in 150 runs\n",
      "    time elasped: 99.8117136489 s\n",
      "    r2:0.9324,    p:0.0094,   q:0.0540,    m:24093\n",
      "    mean:4    std:0.0896749147875\n",
      "*****5******\n",
      "Searching ends in 150 runs\n",
      "    time elasped: 87.4702953501 s\n",
      "    r2:0.9280,    p:0.0100,   q:0.0450,    m:23316\n",
      "    mean:5    std:0.0689611077862\n",
      "*****6******\n",
      "Searching ends in 150 runs\n",
      "    time elasped: 86.105299276 s\n",
      "    r2:0.9251,    p:0.0105,   q:0.0392,    m:22287\n",
      "    mean:6    std:0.0513781437481\n",
      "*****7******\n",
      "Searching ends in 150 runs\n",
      "    time elasped: 88.0618440837 s\n",
      "    r2:0.9233,    p:0.0110,   q:0.0351,    m:21404\n",
      "    mean:7    std:0.0361295216702\n",
      "*****8******\n",
      "Searching ends in 150 runs\n",
      "    time elasped: 76.1750823522 s\n",
      "    r2:0.9221,    p:0.0114,   q:0.0323,    m:20492\n",
      "    mean:8    std:0.0227178511444\n",
      "*****9******\n",
      "Searching ends in 150 runs\n",
      "    time elasped: 69.1164043429 s\n",
      "    r2:0.9214,    p:0.0119,   q:0.0298,    m:19691\n",
      "    mean:9    std:0.0107790989562\n",
      "*****10******\n",
      "Searching ends in 150 runs\n",
      "    time elasped: 68.3090721648 s\n",
      "    r2:0.9209,    p:0.0122,   q:0.0280,    m:19008\n",
      "    mean:10    std:2.77990225038e-13\n",
      "*****11******\n",
      "Searching ends in 150 runs\n",
      "    time elasped: 67.667752911 s\n",
      "    r2:0.9205,    p:0.0125,   q:0.0263,    m:18436\n",
      "    mean:11    std:0.00993581806877\n",
      "*****12******\n",
      "Searching ends in 150 runs\n",
      "    time elasped: 66.3039115062 s\n",
      "    r2:0.9202,    p:0.0127,   q:0.0248,    m:17954\n",
      "    mean:12    std:0.0193926999363\n",
      "============================logno=============================\n",
      "*****3******\n",
      "Searching ends in 150 runs\n",
      "    time elasped: 98.9405641856 s\n",
      "    r2:0.9372,    p:0.0093,   q:0.0744,    m:23274\n",
      "    mean:3    std:0.106322070858\n",
      "*****4******\n",
      "Searching ends in 150 runs\n",
      "    time elasped: 98.8423531532 s\n",
      "    r2:0.9323,    p:0.0096,   q:0.0554,    m:23535\n",
      "    mean:4    std:0.0843445509379\n",
      "*****5******\n",
      "Searching ends in 150 runs\n",
      "    time elasped: 87.2012765225 s\n",
      "    r2:0.9282,    p:0.0100,   q:0.0459,    m:22886\n",
      "    mean:5    std:0.0655272397031\n",
      "*****6******\n",
      "Searching ends in 150 runs\n",
      "    time elasped: 89.6072359842 s\n",
      "    r2:0.9255,    p:0.0106,   q:0.0398,    m:22011\n",
      "    mean:6    std:0.0478578997233\n",
      "*****7******\n",
      "Searching ends in 150 runs\n",
      "    time elasped: 80.6697668823 s\n",
      "    r2:0.9238,    p:0.0111,   q:0.0362,    m:20885\n",
      "    mean:7    std:0.0320453940677\n",
      "*****8******\n",
      "Searching ends in 150 runs\n",
      "    time elasped: 71.460621788 s\n",
      "    r2:0.9228,    p:0.0117,   q:0.0331,    m:19955\n",
      "    mean:8    std:0.019643103496\n",
      "*****9******\n",
      "Searching ends in 150 runs\n",
      "    time elasped: 69.8817039953 s\n",
      "    r2:0.9222,    p:0.0120,   q:0.0311,    m:19045\n",
      "    mean:9    std:0.0127939664794\n",
      "*****10******\n",
      "Searching ends in 150 runs\n",
      "    time elasped: 68.1346119085 s\n",
      "    r2:0.9216,    p:0.0123,   q:0.0289,    m:18450\n",
      "    mean:10    std:0.0134211920609\n",
      "*****11******\n",
      "Searching ends in 150 runs\n",
      "    time elasped: 66.8466014806 s\n",
      "    r2:0.9211,    p:0.0126,   q:0.0272,    m:17850\n",
      "    mean:11    std:0.0182502150492\n",
      "*****12******\n",
      "Searching ends in 150 runs\n",
      "    time elasped: 65.6231327858 s\n",
      "    r2:0.9206,    p:0.0129,   q:0.0256,    m:17477\n",
      "    mean:12    std:0.0245565425681\n",
      "============================gauss=============================\n",
      "*****3******\n",
      "Searching ends in 150 runs\n",
      "    time elasped: 84.9371897005 s\n",
      "    r2:0.9253,    p:0.0116,   q:0.0927,    m:19139\n",
      "    mean:3    std:0.0821454223307\n",
      "*****4******\n",
      "Searching ends in 150 runs\n",
      "    time elasped: 81.9842075462 s\n",
      "    r2:0.9253,    p:0.0115,   q:0.0676,    m:19589\n",
      "    mean:4    std:0.0633541487909\n",
      "*****5******\n",
      "Searching ends in 150 runs\n",
      "    time elasped: 77.7638507563 s\n",
      "    r2:0.9251,    p:0.0115,   q:0.0536,    m:19743\n",
      "    mean:5    std:0.0499558167084\n",
      "*****6******\n",
      "Searching ends in 150 runs\n",
      "    time elasped: 75.5233685094 s\n",
      "    r2:0.9245,    p:0.0115,   q:0.0444,    m:19820\n",
      "    mean:6    std:0.038949172607\n",
      "*****7******\n",
      "Searching ends in 150 runs\n",
      "    time elasped: 73.4790320622 s\n",
      "    r2:0.9236,    p:0.0116,   q:0.0382,    m:19793\n",
      "    mean:7    std:0.0289822357381\n",
      "*****8******\n",
      "Searching ends in 150 runs\n",
      "    time elasped: 70.9416270515 s\n",
      "    r2:0.9226,    p:0.0118,   q:0.0339,    m:19541\n",
      "    mean:8    std:0.0194567727448\n",
      "*****9******\n",
      "Searching ends in 150 runs\n",
      "    time elasped: 69.4963415517 s\n",
      "    r2:0.9217,    p:0.0120,   q:0.0307,    m:19232\n",
      "    mean:9    std:0.0102081927767\n",
      "*****10******\n",
      "Searching ends in 150 runs\n",
      "    time elasped: 67.9869183104 s\n",
      "    r2:0.9209,    p:0.0122,   q:0.0282,    m:18908\n",
      "    mean:10    std:0.00346882794008\n",
      "*****11******\n",
      "Searching ends in 150 runs\n",
      "    time elasped: 67.0451794983 s\n",
      "    r2:0.9204,    p:0.0125,   q:0.0263,    m:18417\n",
      "    mean:11    std:0.0102081927767\n",
      "*****12******\n",
      "Searching ends in 150 runs\n",
      "    time elasped: 67.4633787389 s\n",
      "    r2:0.9201,    p:0.0127,   q:0.0248,    m:17947\n",
      "    mean:12    std:0.0194567727448\n",
      "============================expon=============================\n",
      "*****3******\n",
      "Searching ends in 150 runs\n",
      "    time elasped: 89.0003583751 s\n",
      "    r2:0.9306,    p:0.0107,   q:0.0859,    m:20470\n",
      "    mean:3    std:0.0879145910586\n",
      "*****4******\n",
      "Searching ends in 150 runs\n",
      "    time elasped: 83.016432226 s\n",
      "    r2:0.9294,    p:0.0106,   q:0.0633,    m:20850\n",
      "    mean:4    std:0.0680112956225\n",
      "*****5******\n",
      "Searching ends in 150 runs\n",
      "    time elasped: 78.9000486957 s\n",
      "    r2:0.9275,    p:0.0108,   q:0.0503,    m:20997\n",
      "    mean:5    std:0.0531969859318\n",
      "*****6******\n",
      "Searching ends in 150 runs\n",
      "    time elasped: 76.6466489788 s\n",
      "    r2:0.9256,    p:0.0111,   q:0.0424,    m:20752\n",
      "    mean:6    std:0.0408121913515\n",
      "*****7******\n",
      "Searching ends in 150 runs\n",
      "    time elasped: 74.9937205951 s\n",
      "    r2:0.9239,    p:0.0114,   q:0.0370,    m:20370\n",
      "    mean:7    std:0.0297598477854\n",
      "*****8******\n",
      "Searching ends in 150 runs\n",
      "    time elasped: 73.7235590726 s\n",
      "    r2:0.9226,    p:0.0115,   q:0.0333,    m:19955\n",
      "    mean:8    std:0.0194817503039\n",
      "*****9******\n",
      "Searching ends in 150 runs\n",
      "    time elasped: 70.0293294536 s\n",
      "    r2:0.9216,    p:0.0119,   q:0.0302,    m:19513\n",
      "    mean:9    std:0.00964121297896\n",
      "*****10******\n",
      "Searching ends in 150 runs\n",
      "    time elasped: 68.9970360639 s\n",
      "    r2:0.9208,    p:0.0121,   q:0.0280,    m:19019\n",
      "    mean:10    std:3.46142462309e-10\n",
      "*****11******\n",
      "Searching ends in 150 runs\n",
      "    time elasped: 67.2919237588 s\n",
      "    r2:0.9203,    p:0.0124,   q:0.0261,    m:18582\n",
      "    mean:11    std:0.00964121297896\n",
      "*****12******\n",
      "Searching ends in 150 runs\n",
      "    time elasped: 65.9577103109 s\n",
      "    r2:0.9199,    p:0.0126,   q:0.0245,    m:18164\n",
      "    mean:12    std:0.0194817503039\n"
     ]
    }
   ],
   "source": [
    "for g in ['power','logno','gauss','expon']:\n",
    "    print '============================%s============================='%g\n",
    "    r2_list = []\n",
    "    mean_std = []\n",
    "    params_list = []\n",
    "    for d in range(3,13):\n",
    "        print '*****%s******'%d\n",
    "        t1 = time.clock()\n",
    "        rgs = Random_Grid_Search(S,d,g)\n",
    "        est = rgs.optima_search()\n",
    "        params = est[1:]\n",
    "        r2 = rgs.r2(params)\n",
    "        std = np.std(rgs.p_k)\n",
    "        \n",
    "        r2_list.append(r2)\n",
    "        mean_std.append([d,std])\n",
    "        params_list.append(params)\n",
    "        \n",
    "        print '    time elasped:',time.clock()-t1,'s'\n",
    "        print '    r2:%.4f,    p:%.4f,   q:%.4f,    m:%d'%tuple([r2]+params)\n",
    "        print '    mean:%s    std:%s'%(d,std)\n",
    "        \n",
    "    fit_dict[g]={'params':params_list,'r2':r2_list,'mean_std':mean_std}"
   ]
  },
  {
   "cell_type": "code",
   "execution_count": 67,
   "metadata": {
    "collapsed": false
   },
   "outputs": [],
   "source": [
    "to_save = pickle.dumps(fit_dict)\n",
    "f = open('estimation for clothers dryers (3-12)-20-c=2.txt','w')\n",
    "f.write(to_save)\n",
    "f.close()"
   ]
  },
  {
   "cell_type": "code",
   "execution_count": 70,
   "metadata": {
    "collapsed": false
   },
   "outputs": [
    {
     "data": {
      "image/png": "[encoded data removed]",
      "text/plain": [
       "<matplotlib.figure.Figure at 0x1b13fbe0>"
      ]
     },
     "metadata": {},
     "output_type": "display_data"
    }
   ],
   "source": [
    "fig = pl.figure(figsize=(12,12))\n",
    "mean_k = range(3,13)\n",
    "\n",
    "i = 1\n",
    "for m in ['power','expon','logno','gauss']:\n",
    "    ax = fig.add_subplot(2,2,i)\n",
    "    r2_list = fit_dict[m]['r2']\n",
    "    std_list = [x[1] for x in fit_dict[m]['mean_std']]\n",
    "    ax.plot(mean_k,r2_list,'ro--',lw=1.5,ms=8,alpha=0.8)\n",
    "    \n",
    "    ax.set_xlim([2,13])\n",
    "    ax.set_xlabel('<k>')\n",
    "    ax.set_ylabel('fitness')\n",
    "    ax.set_title(m)\n",
    "    i = i+1\n",
    "    \n",
    "pl.tight_layout()\n",
    "    "
   ]
  },
  {
   "cell_type": "code",
   "execution_count": 61,
   "metadata": {
    "collapsed": false
   },
   "outputs": [
    {
     "data": {
      "text/plain": [
       "[<matplotlib.lines.Line2D at 0x2125e8d0>]"
      ]
     },
     "execution_count": 61,
     "metadata": {},
     "output_type": "execute_result"
    },
    {
     "data": {
      "image/png": "[encoded data removed]",
      "text/plain": [
       "<matplotlib.figure.Figure at 0x20faa400>"
      ]
     },
     "metadata": {},
     "output_type": "display_data"
    }
   ],
   "source": [
    "pl.plot(r2_list) #logno"
   ]
  },
  {
   "cell_type": "code",
   "execution_count": 59,
   "metadata": {
    "collapsed": false
   },
   "outputs": [
    {
     "data": {
      "text/plain": [
       "[<matplotlib.lines.Line2D at 0x20ffceb8>]"
      ]
     },
     "execution_count": 59,
     "metadata": {},
     "output_type": "execute_result"
    },
    {
     "data": {
      "image/png": "[encoded data removed]",
      "text/plain": [
       "<matplotlib.figure.Figure at 0x20dbbeb8>"
      ]
     },
     "metadata": {},
     "output_type": "display_data"
    }
   ],
   "source": [
    "pl.plot(r2_list) #expon"
   ]
  },
  {
   "cell_type": "code",
   "execution_count": 54,
   "metadata": {
    "collapsed": true
   },
   "outputs": [],
   "source": [
    "r_list = [0.9397,0.9437,0.9447,0.9438,0.9400,0.9378,0.9358,0.9339,0.9322,0.9307,0.9294,0.9283,0.9273,0.9264,0.9257,0.9251,0.9245]"
   ]
  },
  {
   "cell_type": "code",
   "execution_count": 11,
   "metadata": {
    "collapsed": false
   },
   "outputs": [
    {
     "data": {
      "text/plain": [
       "[<matplotlib.lines.Line2D at 0x1aa90198>]"
      ]
     },
     "execution_count": 11,
     "metadata": {},
     "output_type": "execute_result"
    },
    {
     "data": {
      "image/png": "[encoded data removed]",
      "text/plain": [
       "<matplotlib.figure.Figure at 0x1a91dac8>"
      ]
     },
     "metadata": {},
     "output_type": "display_data"
    }
   ],
   "source": [
    "pl.plot(np.arange(3,13),power_r2,'ko-',lw=1.5,ms=1.3) #power\n",
    "pl.xlabel('d')\n",
    "pl.ylabel('R^2')\n"
   ]
  },
  {
   "cell_type": "code",
   "execution_count": 50,
   "metadata": {
    "collapsed": false
   },
   "outputs": [],
   "source": [
    "x = rgs.f(params)\n",
    "year = data_set[tx][0]"
   ]
  },
  {
   "cell_type": "code",
   "execution_count": 51,
   "metadata": {
    "collapsed": false
   },
   "outputs": [
    {
     "data": {
      "text/plain": [
       "<matplotlib.legend.Legend at 0x20aee710>"
      ]
     },
     "execution_count": 51,
     "metadata": {},
     "output_type": "execute_result"
    },
    {
     "data": {
      "image/png": "[encoded data removed]",
      "text/plain": [
       "<matplotlib.figure.Figure at 0x1fe0bd30>"
      ]
     },
     "metadata": {},
     "output_type": "display_data"
    }
   ],
   "source": [
    "pl.text(min(year)+0.2,max(S)*0.9,'$R^2=%.4f$'%r2)\n",
    "pl.plot(year,x,'k-',lw=2,alpha=0.7,label='estimation')\n",
    "pl.plot(year,S,'ro',ms=5,alpha=0.5,label='sales')\n",
    "pl.xlabel('Year')\n",
    "pl.ylabel('Sales')\n",
    "pl.legend(loc=4)"
   ]
  },
  {
   "cell_type": "markdown",
   "metadata": {},
   "source": [
    "#### (4)例子"
   ]
  },
  {
   "cell_type": "code",
   "execution_count": null,
   "metadata": {
    "collapsed": false
   },
   "outputs": [],
   "source": [
    "T = np.arange(60)\n",
    "F = np.zeros_like(k_list)\n",
    "ini_params = [6,0.001,0.02,100000]\n",
    "\n",
    "insta_1 = gener_simulation(ini_params,'power',F,T,k_list)\n",
    "insta_2 = gener_simulation(ini_params,'lognormal',F,T,k_list)\n",
    "insta_3 = gener_simulation(ini_params,'exponential',F,T,k_list)\n",
    "insta_4 = gener_simulation(ini_params,'gaussian',F,T,k_list)\n",
    "\n",
    "pl.figure(figsize=(12,6))\n",
    "pl.xlabel('time step')\n",
    "pl.ylabel('number of adoptors')\n",
    "pl.plot(insta_1,'ko-',label='power')\n",
    "pl.plot(insta_2,'k*-',label='lognormal')\n",
    "pl.plot(insta_3,'ks-',label='exponential')\n",
    "pl.plot(insta_4,'kp-',label='gaussian')\n",
    "pl.legend(loc='best')\n",
    "pl.grid()"
   ]
  },
  {
   "cell_type": "markdown",
   "metadata": {},
   "source": [
    "### 实证扩散数据拟合"
   ]
  },
  {
   "cell_type": "markdown",
   "metadata": {},
   "source": [
    "网络度分布设置：幂律分布，指数分布，泊松分布和二项分布"
   ]
  },
  {
   "cell_type": "code",
   "execution_count": null,
   "metadata": {
    "collapsed": false
   },
   "outputs": [],
   "source": [
    "K_list = np.arange(1,100,1)\n",
    "mean_degre = 3\n",
    "mu,sigma = 1.37,1\n",
    "beta_range = np.arange(0,2.1,0.1)\n",
    "\n",
    "pk_pow = 0.6237*k_list**(-2.037)\n",
    "pk_pow[0] = 1 - np.sum(pk_pow[1:])\n",
    "\n",
    "pk_exp = 0.5*e**(-0.405*k_list)\n",
    "pk_exp[0] = 1 - np.sum(pk_exp[1:])\n",
    "\n",
    "pk_pos = 1.0633*stats.poisson.pmf(k_list,2.8214)\n",
    "pk_pos[0] = 1 - np.sum(pk_pos[1:])\n",
    "\n",
    "pk_bio = np.array([stats.binom.pmf(i,len(k_list),0.02020202) for i in range(len(k_list))])\n",
    "pk_bio[0] = 1 - np.sum(pk_bio[1:])"
   ]
  },
  {
   "cell_type": "markdown",
   "metadata": {},
   "source": [
    "数据集合"
   ]
  },
  {
   "cell_type": "code",
   "execution_count": 44,
   "metadata": {
    "collapsed": true
   },
   "outputs": [],
   "source": [
    "data_set = {'room air conditioners':(np.arange(1949,1962),[96,195,238,380,1045,1230,1267,1828,1586,1673,1800,1580,1500]),\n",
    "            'color televisions':(np.arange(1963,1971),[747,1480,2646,5118,5777,5982,5962,4631]),\n",
    "            'clothers dryers':(np.arange(1949,1962),[106,319,492,635,737,890,1397,1523,1294,1240,1425,1260,1236]),\n",
    "            'ultrasound':(np.arange(1965,1979),[5,3,2,5,7,12,6,16,16,28,28,21,13,6]),\n",
    "            'mammography':(np.arange(1965,1979),[2,2,2,3,4,9,7,16,23,24,15,6,5,1]),\n",
    "            'foreign language':(np.arange(1952,1964),[1.25,0.77,0.86,0.48,1.34,3.56,3.36,6.24,5.95,6.24,4.89,0.25]),\n",
    "            'accelerated program':(np.arange(1952,1964),[0.67,0.48,2.11,0.29,2.59,2.21,16.80,11.04,14.40,6.43,6.15,1.15])}\n",
    "china_set = {'color tv':(np.arange(1997,2013),[2.6,1.2,2.11,3.79,3.6,7.33,7.18,5.29,8.42,5.68,6.57,5.49,6.48,5.42,10.72,5.15]),\n",
    "             'mobile phone':(np.arange(1997,2013),[1.7,1.6,3.84,12.36,14.5,28.89,27.18,21.33,25.6,15.88,12.3,6.84,9.02,7.82,16.39,7.39]),\n",
    "             }"
   ]
  },
  {
   "cell_type": "code",
   "execution_count": 45,
   "metadata": {
    "collapsed": true
   },
   "outputs": [],
   "source": [
    "S = data_set['room air conditioners'][1]"
   ]
  },
  {
   "cell_type": "code",
   "execution_count": null,
   "metadata": {
    "collapsed": false
   },
   "outputs": [],
   "source": [
    "year = data_set['room air conditioners'][0]\n",
    "S = data_set['room air conditioners'][1]\n",
    "T = np.arange(len(S))\n",
    "F = np.zeros_like(k_list)"
   ]
  },
  {
   "cell_type": "code",
   "execution_count": null,
   "metadata": {
    "collapsed": false
   },
   "outputs": [],
   "source": [
    "g = 'exponential'\n",
    "x0 = (5,0.005,0.05,3*sum(S))\n",
    "t1 = time.clock()\n",
    "res = minimize(mse,x0,args=(g,S,T,F,k_list),method='powell',options={'disp':True}) \n",
    "print '用时:',time.clock()-t1,'s'\n",
    "print '参数估计值:','mean degree=',res.x[0],'p=',res.x[1],'q=',res.x[2],'m=',res.x[3]"
   ]
  },
  {
   "cell_type": "code",
   "execution_count": null,
   "metadata": {
    "collapsed": true
   },
   "outputs": [],
   "source": [
    "x = res.x\n",
    "f_S = gener_simulation(x,g,F,T,k_list)"
   ]
  },
  {
   "cell_type": "code",
   "execution_count": null,
   "metadata": {
    "collapsed": true
   },
   "outputs": [],
   "source": [
    "r2,sigma = cal_R_sigma(x,g,S,F,T,k_list)"
   ]
  },
  {
   "cell_type": "code",
   "execution_count": null,
   "metadata": {
    "collapsed": false
   },
   "outputs": [],
   "source": [
    "fig = pl.figure(figsize=(8,4))\n",
    "ax = fig.add_subplot(1,1,1)\n",
    "ax.plot(year,S,'o',c='grey',ms=7,label='Actual')\n",
    "ax.plot(year,f_S,'k-',label='Fitted')\n",
    "ax.set_xlabel('Year',fontsize=15)\n",
    "ax.set_ylabel('Sales',fontsize=15)\n",
    "ax.set_xlim(year[0],year[-1])\n",
    "ax.set_title('The estimation result')\n",
    "ax.legend(loc='best',fontsize=15)"
   ]
  },
  {
   "cell_type": "markdown",
   "metadata": {},
   "source": [
    "### 微分方程组积分示例\n",
    "\n",
    "#### 微分方程组的积分结果和选取的时间点无关，这说明了方法的正确性"
   ]
  },
  {
   "cell_type": "code",
   "execution_count": null,
   "metadata": {
    "collapsed": false
   },
   "outputs": [],
   "source": [
    "T1 = np.linspace(0,20,20)\n",
    "T2 = np.linspace(0,20,100)\n",
    "T3 = np.linspace(0,20,1000)\n",
    "T4 = np.linspace(0,20,10000)\n",
    "T_cont = [T1,T2,T3,T4]\n",
    "p,q,m=0.01,0.2,10000\n",
    "A_cont,I_cont = [],[]\n",
    "\n",
    "for i in range(4):\n",
    "    accum_diff = np.sum(m*P_k*odeint(evolve,F,T_cont[i],args=(P_k,K_list,p,q)),axis=1)\n",
    "    insta_diff = np.zeros_like(accum_diff)\n",
    "    for i in range(1,len(accum_diff)):\n",
    "        insta_diff[i] = accum_diff[i]-accum_diff[i-1]\n",
    "        \n",
    "    I_cont.append(insta_diff)\n",
    "    A_cont.append(accum_diff)"
   ]
  },
  {
   "cell_type": "code",
   "execution_count": null,
   "metadata": {
    "collapsed": false
   },
   "outputs": [],
   "source": [
    "A_cont[0][1],np.sum(A_cont[1][1]),np.sum(A_cont[2][1])"
   ]
  },
  {
   "cell_type": "code",
   "execution_count": null,
   "metadata": {
    "collapsed": false
   },
   "outputs": [],
   "source": [
    "for i in range(4):\n",
    "    pl.plot(T_cont[i],A_cont[i],'%s'%C_cont[i])"
   ]
  },
  {
   "cell_type": "code",
   "execution_count": null,
   "metadata": {
    "collapsed": false
   },
   "outputs": [],
   "source": [
    "%matplotlib inline\n",
    "C_cont = ['ko-','bo-','go-','ro-']\n",
    "fig = pl.figure(figsize=(8,8))\n",
    "for i in range(4):\n",
    "    ax = fig.add_subplot(2,2,i+1)\n",
    "    ax.plot(T_cont[i],I_cont[i],'%s'%C_cont[i])\n",
    "    \n",
    "pl.tight_layout()"
   ]
  }
 ],
 "metadata": {
  "anaconda-cloud": {},
  "kernelspec": {
   "display_name": "Python 2",
   "language": "python",
   "name": "python2"
  },
  "language_info": {
   "codemirror_mode": {
    "name": "ipython",
    "version": 2
   },
   "file_extension": ".py",
   "mimetype": "text/x-python",
   "name": "python",
   "nbconvert_exporter": "python",
   "pygments_lexer": "ipython2",
   "version": "2.7.10"
  }
 },
 "nbformat": 4,
 "nbformat_minor": 0
}
