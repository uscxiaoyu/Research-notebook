{
 "cells": [
  {
   "cell_type": "code",
   "execution_count": 3,
   "metadata": {
    "collapsed": false
   },
   "outputs": [],
   "source": [
    "from __future__ import division\n",
    "import sys\n",
    "sys.path.append('C:\\Users\\XIAOYU\\PycharmProjects\\ND3M')\n",
    "from gen_network import *\n",
    "import time\n",
    "import numpy as np\n",
    "import matplotlib.pyplot as pl"
   ]
  },
  {
   "cell_type": "code",
   "execution_count": 4,
   "metadata": {
    "collapsed": true
   },
   "outputs": [],
   "source": [
    "def _diffuse_(G,p,q,num_of_run=25):\n",
    "        if not G.is_directed():\n",
    "            G = G.to_directed()\n",
    "\n",
    "        for i in G.nodes_iter():\n",
    "            G.node[i]['state'] = False\n",
    "            G.node[i]['prede'] = G.predecessors(i)\n",
    "\n",
    "        non_set = np.array(G.nodes())\n",
    "        num_of_adopt = []\n",
    "        for u in xrange(num_of_run):\n",
    "            #获取各节点已采纳邻居数量\n",
    "            len_non = len(non_set)\n",
    "            influ = np.zeros(len_non)\n",
    "            for i in xrange(len_non): \n",
    "                influ[i] = len([k for k in G.node[non_set[i]].get('prede',[]) if G.node[k]['state']])\n",
    "\n",
    "            #获取本时间步采纳者数量\n",
    "            prob = 1-(1-p)*(1-q)**influ\n",
    "            rand = np.random.random(len_non)\n",
    "            upda = rand<=prob\n",
    "            num_of_adopt.append(np.sum(upda))\n",
    "            #更新本时间步已采纳节点的状态\n",
    "            for i in non_set[upda]:\n",
    "                G.node[i]['state'] = True\n",
    "\n",
    "            non_set = non_set[rand>prob] #更新未采纳节点集合         \n",
    "        return num_of_adopt"
   ]
  },
  {
   "cell_type": "code",
   "execution_count": 48,
   "metadata": {
    "collapsed": false
   },
   "outputs": [],
   "source": [
    "def gener_data(g, p_range, q_range, path='C:/Users/XIAOYU/PycharmProjects/ND3M/'):\n",
    "        g_graph = gener_random_graph(g=g, n=10000, d=6, k_list=np.arange(100))\n",
    "        G = g_graph.generate()\n",
    "        to_save = []\n",
    "        for p in p_range:\n",
    "            t1 = time.clock()\n",
    "            for q in q_range:\n",
    "                diff_cont = []\n",
    "                for i in xrange(20):\n",
    "                    diff = _diffuse_(G,p,q,num_of_run=40)\n",
    "                    diff_cont.append(diff)\n",
    "                mean_diff = np.mean(diff_cont,axis=0)\n",
    "                to_save.append(np.concatenate(([p,q],mean_diff)))\n",
    "            print 'p:%s,time elapsed:%.2f s'%(p,time.clock()-t1)\n",
    "            print '================================'\n",
    "        np.save(path+'%s_diff'%g, to_save)\n",
    "        return to_save"
   ]
  },
  {
   "cell_type": "markdown",
   "metadata": {},
   "source": [
    "### 1. one分布\n",
    ">p: np.arange(0.001, 0.021, 0.001), q: np.arange(0.04, 0.21, 0.005)   20*34"
   ]
  },
  {
   "cell_type": "code",
   "execution_count": 30,
   "metadata": {
    "collapsed": true
   },
   "outputs": [],
   "source": [
    "n = 10000\n",
    "g = 'one'\n",
    "d = 6\n",
    "k_list = np.arange(1,100)\n",
    "g_graph = gener_random_graph(n,d,k_list,g)\n",
    "G = g_graph.generate()"
   ]
  },
  {
   "cell_type": "code",
   "execution_count": 27,
   "metadata": {
    "collapsed": false
   },
   "outputs": [
    {
     "name": "stdout",
     "output_type": "stream",
     "text": [
      "12 628\n"
     ]
    },
    {
     "data": {
      "image/png": "[encoded data removed]",
      "text/plain": [
       "<matplotlib.figure.Figure at 0xac6a278>"
      ]
     },
     "metadata": {},
     "output_type": "display_data"
    }
   ],
   "source": [
    "p, q = 0.021,0.04\n",
    "diff = _diffuse_(G, p, q, num_of_run=40)\n",
    "pl.plot(diff)\n",
    "print np.argmax(diff), np.max(diff)"
   ]
  },
  {
   "cell_type": "code",
   "execution_count": null,
   "metadata": {
    "collapsed": false
   },
   "outputs": [
    {
     "name": "stdout",
     "output_type": "stream",
     "text": [
      "p:0.001,time elapsed:388.46 s\n",
      "================================\n",
      "p:0.002,time elapsed:377.19 s"
     ]
    }
   ],
   "source": [
    "to_save = []\n",
    "for p in np.arange(0.001, 0.021, 0.001):\n",
    "    t1 = time.clock()\n",
    "    for q in np.arange(0.04, 0.21, 0.005):\n",
    "        diff_cont = []\n",
    "        for i in xrange(20):\n",
    "            diff = _diffuse_(G,p,q,num_of_run=40)\n",
    "            diff_cont.append(diff)\n",
    "\n",
    "        mean_diff = np.mean(diff_cont,axis=0)\n",
    "        to_save.append(np.concatenate(([p,q],mean_diff)))\n",
    "        \n",
    "    print 'p:%s,time elapsed:%.2f s'%(p,time.clock()-t1)\n",
    "    print '================================'\n",
    "\n",
    "np.save('C:\\Users\\XIAOYU\\PycharmProjects\\ND3M\\%s_diff'%g,to_save)"
   ]
  },
  {
   "cell_type": "markdown",
   "metadata": {},
   "source": [
    "## 2. exponential分布\n",
    ">p: np.arange(0.001, 0.021, 0.001), q: np.arange(0.04, 0.15, 0.005)   20*22"
   ]
  },
  {
   "cell_type": "code",
   "execution_count": 49,
   "metadata": {
    "collapsed": false
   },
   "outputs": [
    {
     "name": "stdout",
     "output_type": "stream",
     "text": [
      "p:0.001,time elapsed:254.59 s\n",
      "================================\n",
      "p:0.002,time elapsed:237.04 s\n",
      "================================\n",
      "p:0.003,time elapsed:231.45 s\n",
      "================================\n",
      "p:0.004,time elapsed:227.89 s\n",
      "================================\n",
      "p:0.005,time elapsed:232.08 s\n",
      "================================\n",
      "p:0.006,time elapsed:221.61 s\n",
      "================================\n",
      "p:0.007,time elapsed:219.92 s\n",
      "================================\n",
      "p:0.008,time elapsed:218.51 s\n",
      "================================\n",
      "p:0.009,time elapsed:217.50 s\n",
      "================================\n",
      "p:0.01,time elapsed:220.26 s\n",
      "================================\n",
      "p:0.011,time elapsed:221.81 s\n",
      "================================\n",
      "p:0.012,time elapsed:222.09 s\n",
      "================================\n",
      "p:0.013,time elapsed:235.95 s\n",
      "================================\n",
      "p:0.014,time elapsed:223.25 s\n",
      "================================\n",
      "p:0.015,time elapsed:217.99 s\n",
      "================================\n",
      "p:0.016,time elapsed:215.06 s\n",
      "================================\n",
      "p:0.017,time elapsed:214.03 s\n",
      "================================\n",
      "p:0.018,time elapsed:211.82 s\n",
      "================================\n",
      "p:0.019,time elapsed:208.28 s\n",
      "================================\n",
      "p:0.02,time elapsed:207.75 s\n",
      "================================\n"
     ]
    }
   ],
   "source": [
    "g = 'expon'\n",
    "p_range = np.arange(0.001, 0.021, 0.001)\n",
    "q_range = np.arange(0.04, 0.15, 0.005)\n",
    "db2 = gener_data(g, p_range, q_range)"
   ]
  },
  {
   "cell_type": "markdown",
   "metadata": {},
   "source": [
    "## 3. Gaussian分布\n",
    ">p: np.arange(0.001, 0.021, 0.001), q: np.arange(0.04, 0.15, 0.005)   20*22"
   ]
  },
  {
   "cell_type": "code",
   "execution_count": 50,
   "metadata": {
    "collapsed": false
   },
   "outputs": [
    {
     "name": "stdout",
     "output_type": "stream",
     "text": [
      "p:0.001,time elapsed:247.00 s\n",
      "================================\n",
      "p:0.002,time elapsed:239.63 s\n",
      "================================\n",
      "p:0.003,time elapsed:235.10 s\n",
      "================================\n",
      "p:0.004,time elapsed:231.60 s\n",
      "================================\n",
      "p:0.005,time elapsed:229.51 s\n",
      "================================\n",
      "p:0.006,time elapsed:227.39 s\n",
      "================================\n",
      "p:0.007,time elapsed:225.81 s\n",
      "================================\n",
      "p:0.008,time elapsed:224.00 s\n",
      "================================\n",
      "p:0.009,time elapsed:223.54 s\n",
      "================================\n",
      "p:0.01,time elapsed:221.55 s\n",
      "================================\n",
      "p:0.011,time elapsed:220.47 s\n",
      "================================\n",
      "p:0.012,time elapsed:219.32 s\n",
      "================================\n",
      "p:0.013,time elapsed:218.49 s\n",
      "================================\n",
      "p:0.014,time elapsed:217.63 s\n",
      "================================\n",
      "p:0.015,time elapsed:216.30 s\n",
      "================================\n",
      "p:0.016,time elapsed:215.52 s\n",
      "================================\n",
      "p:0.017,time elapsed:214.63 s\n",
      "================================\n",
      "p:0.018,time elapsed:214.31 s\n",
      "================================\n",
      "p:0.019,time elapsed:213.53 s\n",
      "================================\n",
      "p:0.02,time elapsed:212.74 s\n",
      "================================\n"
     ]
    }
   ],
   "source": [
    "g = 'gauss'\n",
    "p_range = np.arange(0.001, 0.021, 0.001)\n",
    "q_range = np.arange(0.04, 0.15, 0.005)\n",
    "db3 = gener_data(g, p_range, q_range)"
   ]
  },
  {
   "cell_type": "code",
   "execution_count": null,
   "metadata": {
    "collapsed": true
   },
   "outputs": [],
   "source": []
  }
 ],
 "metadata": {
  "kernelspec": {
   "display_name": "Python 2",
   "language": "python",
   "name": "python2"
  },
  "language_info": {
   "codemirror_mode": {
    "name": "ipython",
    "version": 2
   },
   "file_extension": ".py",
   "mimetype": "text/x-python",
   "name": "python",
   "nbconvert_exporter": "python",
   "pygments_lexer": "ipython2",
   "version": "2.7.13"
  }
 },
 "nbformat": 4,
 "nbformat_minor": 2
}
