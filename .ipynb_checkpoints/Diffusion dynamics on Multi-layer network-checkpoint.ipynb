{
 "cells": [
  {
   "cell_type": "code",
   "execution_count": 72,
   "metadata": {},
   "outputs": [],
   "source": [
    "import networkx as nx\n",
    "import numpy as np\n",
    "import matplotlib.pyplot as plt\n",
    "import time"
   ]
  },
  {
   "cell_type": "markdown",
   "metadata": {},
   "source": [
    "### 个体决策过程:  \n",
    "对于节点i, 有线上successors集合$g_{1, i}$，线下neighbors集合$g_{2, i}$，分别由线上网络$G_1$和$G_2$定义。$G_1$为有向网络，$G_2$为无向网络。节点i受两大类要素影响，第一类为广告影响，第二类为社会网络影响，其中又分为线上网络和线下网络。  \n",
    "决策规则为：  \n",
    ">   $prob(i) = 1 - (1 - p)\\cdot(1 - q_1)^{a_{1,i}(t)}\\cdot(1 - q_2)^{a_{2,i}(t)}$,\n",
    "\n",
    "其中$a_{1, i}(t)$表示t时期$g_{1, i}$中已采纳者数量，$a_{2, i}(t)$表示t时期$g_{2,i}$中已采纳者数量。"
   ]
  },
  {
   "cell_type": "code",
   "execution_count": 2,
   "metadata": {},
   "outputs": [],
   "source": [
    "class mult_diff:\n",
    "    \n",
    "    def __init__(self, p, q1, q2, G1, G2, num_runs=40):\n",
    "        self.num_runs = num_runs\n",
    "        self.p = p\n",
    "        self.q1 = q1\n",
    "        self.q2 = q2\n",
    "        self.G1 = G1  # 线下网络\n",
    "        self.G2 = G2  # 线上网络\n",
    "  \n",
    "\n",
    "    def update(self, non_adopt_set):\n",
    "        influ_1 = np.array([np.sum([self.G1.nodes[k]['state'] for k in self.G1.nodes[i]['neigh']]) \n",
    "                            for i in non_adopt_set])\n",
    "        \n",
    "        influ_2 = np.array([np.sum([self.G1.nodes[k]['state'] for k in self.G1.nodes[i]['prede']]) \n",
    "                            for i in non_adopt_set])\n",
    "        \n",
    "        prob = 1 - (1 - self.p) * (1 - self.q1) ** influ_1 * (1 - self.q2) ** influ_2\n",
    "        upda = np.less_equal(np.random.random(len(non_adopt_set)), prob)  # 概率决策规则, 集体更新\n",
    "        for i, j in enumerate(non_adopt_set):  # 更新, i为upda的索引, j为未采纳节点的编号\n",
    "            G1.nodes[j]['state'] = upda[i]\n",
    "        \n",
    "        return np.sum(upda), non_adopt_set[np.logical_not(upda)]\n",
    "        \n",
    "        \n",
    "    def sing_diff(self):  # 单次扩散\n",
    "        for i in self.G1:  # 在G1上初始化属性\n",
    "            self.G1.nodes[i]['state'] = False\n",
    "            self.G1.nodes[i]['neigh'] = list(G1.neighbors(i))  # offline neighbors\n",
    "            self.G1.nodes[i]['prede'] = list(G2.predecessors(i))  # online predecessors\n",
    "            \n",
    "        non_adopt_set = np.array([i for i in self.G1 if not self.G1.nodes[i]['state']]) # 未采纳节点集合\n",
    "        num_of_adopt = []\n",
    "        for u in range(self.num_runs):                                 \n",
    "            x, non_adopt_set = self.update(non_adopt_set)\n",
    "            num_of_adopt.append(x)\n",
    "            \n",
    "        return num_of_adopt\n",
    "    \n",
    "    \n",
    "    def repete_diff(self, repetes): #多次扩散\n",
    "        adopt_cont = []\n",
    "        for i in range(repetes):\n",
    "            num_of_adopt = self.sing_diff()\n",
    "            adopt_cont.append(num_of_adopt)\n",
    "            \n",
    "        return adopt_cont  "
   ]
  },
  {
   "cell_type": "code",
   "execution_count": 3,
   "metadata": {},
   "outputs": [],
   "source": [
    "p = 0.001\n",
    "q1 = 0.05\n",
    "q2 = 0.05\n",
    "G1 = nx.gnm_random_graph(10000, 30000)  # 线下网络，无向网络\n",
    "G2 = nx.barabasi_albert_graph(10000, 3)  # 线上网络\n",
    "G2 = G2.to_directed()  # 转化为有向网络\n",
    "diff = mult_diff(p, q1, q2, G1, G2)"
   ]
  },
  {
   "cell_type": "code",
   "execution_count": 4,
   "metadata": {},
   "outputs": [
    {
     "name": "stdout",
     "output_type": "stream",
     "text": [
      "33 s\n"
     ]
    }
   ],
   "source": [
    "t1 = time.clock()\n",
    "diff_cont = diff.repete_diff(2)\n",
    "print('%2.f s' % (time.clock() - t1))"
   ]
  },
  {
   "cell_type": "code",
   "execution_count": 5,
   "metadata": {},
   "outputs": [],
   "source": [
    "mean_diff = np.mean(diff_cont, axis=0)  # 平均采纳人数"
   ]
  },
  {
   "cell_type": "code",
   "execution_count": 9,
   "metadata": {},
   "outputs": [
    {
     "data": {
      "text/plain": [
       "[<matplotlib.lines.Line2D at 0x11581d208>]"
      ]
     },
     "execution_count": 9,
     "metadata": {},
     "output_type": "execute_result"
    },
    {
     "data": {
      "image/png": "[encoded data removed]",
      "text/plain": [
       "<matplotlib.figure.Figure at 0x1157827f0>"
      ]
     },
     "metadata": {},
     "output_type": "display_data"
    }
   ],
   "source": [
    "plt.xlabel('time step')\n",
    "plt.ylabel('number of adopters')\n",
    "plt.plot(np.arange(1, 41), mean_diff, 'ro-')"
   ]
  },
  {
   "cell_type": "code",
   "execution_count": 54,
   "metadata": {},
   "outputs": [],
   "source": [
    "import csv\n",
    "csv_data = csv.reader(open('/Users/xiaoyu/Downloads/301_301_2.csv', encoding='utf-8'))"
   ]
  },
  {
   "cell_type": "code",
   "execution_count": 56,
   "metadata": {},
   "outputs": [],
   "source": [
    "d_list = []\n",
    "for row in csv_data:\n",
    "    d_list.append(row)"
   ]
  },
  {
   "cell_type": "code",
   "execution_count": 66,
   "metadata": {},
   "outputs": [
    {
     "name": "stdout",
     "output_type": "stream",
     "text": [
      "﻿gender\n",
      "education\n",
      "age\n",
      "job\n",
      "5、您是否使用过Airbnb、小猪短租、蚂蚁短租等平台租用共享房屋？\n",
      "6、您日常生活中经常联系的朋友和亲人数目为？\n",
      "7、朋友或亲人们觉得共享房屋很有用。\n",
      "8、朋友或亲人们觉得共享房屋价格低廉。\n",
      "9、朋友或亲人们觉得可以从共享房屋服务中获得切实实惠。\n",
      "10、朋友或亲人们觉得共享房屋体验不错。\n",
      "11、朋友或亲人们觉得共享房屋带来了生活品质的提升。\n",
      "12、您关注的网络红人和明星数目为？\n",
      "13、网络红人或明星们觉得共享房屋很有用。\n",
      "14、网络红人或明星们觉得共享房屋价格低廉。\n",
      "15、网络红人或明星们觉得可以从共享房屋服务中获得切实实惠。\n",
      "16、网络红人或明星们觉得共享房屋体验不错。\n",
      "17、网络红人或明星们觉得共享房屋带来了生活品质的提升。\n",
      "18、我日常浏览网页时经常会看到关于共享房屋的广告或讨论。\n",
      "19、我经常收到共享房屋企业发来的推送或消息。\n",
      "20、我经常看到关于共享房屋的平面广告或电视广告。\n",
      "21、我倾向于使用共享房屋\n",
      "22、我未来会使用共享房屋\n",
      "23、我会持续使用共享房屋\n"
     ]
    }
   ],
   "source": [
    "for x in d_list[0]:\n",
    "    print(x)"
   ]
  },
  {
   "cell_type": "code",
   "execution_count": 60,
   "metadata": {},
   "outputs": [],
   "source": [
    "clean_data = [d_list[0]]\n",
    "for d in d_list[1:]:\n",
    "    new_d = []\n",
    "    for j, u in enumerate(d):\n",
    "        if j == 5 or j == 11:\n",
    "            if u.isdigit():\n",
    "                x = int(u)\n",
    "            else: \n",
    "                x = None\n",
    "        else:\n",
    "            x = int(u)\n",
    "            \n",
    "        new_d.append(x)\n",
    "    clean_data.append(new_d)"
   ]
  },
  {
   "cell_type": "code",
   "execution_count": 61,
   "metadata": {},
   "outputs": [
    {
     "data": {
      "text/plain": [
       "[2, 4, 2, 1, 2, None, 3, 3, 3, 3, 3, None, 3, 3, 3, 3, 3, 3, 3, 3, 3, 3, 3]"
      ]
     },
     "execution_count": 61,
     "metadata": {},
     "output_type": "execute_result"
    }
   ],
   "source": [
    "clean_data[2]"
   ]
  },
  {
   "cell_type": "code",
   "execution_count": 93,
   "metadata": {},
   "outputs": [
    {
     "data": {
      "text/plain": [
       "(array([158.,   1.]),\n",
       " array([2.00000e+00, 7.93825e+04, 1.58763e+05]),\n",
       " <a list of 2 Patch objects>)"
      ]
     },
     "execution_count": 93,
     "metadata": {},
     "output_type": "execute_result"
    },
    {
     "data": {
      "image/png": "[encoded data removed]",
      "text/plain": [
       "<matplotlib.figure.Figure at 0x115702978>"
      ]
     },
     "metadata": {},
     "output_type": "display_data"
    }
   ],
   "source": [
    "plt.hist([x for x in u if x], bins=2)"
   ]
  },
  {
   "cell_type": "code",
   "execution_count": 81,
   "metadata": {},
   "outputs": [],
   "source": [
    "u = [x[5] for x in clean_data[1:]]"
   ]
  },
  {
   "cell_type": "code",
   "execution_count": 94,
   "metadata": {},
   "outputs": [],
   "source": [
    "u = [x for x in u if x]"
   ]
  },
  {
   "cell_type": "code",
   "execution_count": 97,
   "metadata": {},
   "outputs": [],
   "source": [
    "max_idx = u.index(max(u))"
   ]
  },
  {
   "cell_type": "code",
   "execution_count": 98,
   "metadata": {},
   "outputs": [],
   "source": [
    "del u[max_idx]"
   ]
  },
  {
   "cell_type": "code",
   "execution_count": 100,
   "metadata": {},
   "outputs": [
    {
     "data": {
      "text/plain": [
       "14.879746835443038"
      ]
     },
     "execution_count": 100,
     "metadata": {},
     "output_type": "execute_result"
    }
   ],
   "source": [
    "sum(u) / len(u)"
   ]
  },
  {
   "cell_type": "code",
   "execution_count": 102,
   "metadata": {},
   "outputs": [],
   "source": [
    "v = [x[11] for x in clean_data[1:]]\n",
    "v = [x for x in v if x]\n",
    "max_idx = v.index(max(v))\n",
    "del u[max_idx]"
   ]
  },
  {
   "cell_type": "code",
   "execution_count": 108,
   "metadata": {},
   "outputs": [
    {
     "data": {
      "text/plain": [
       "[50,\n",
       " 10,\n",
       " 2,\n",
       " 4,\n",
       " 10,\n",
       " 1,\n",
       " 20,\n",
       " 5,\n",
       " 50,\n",
       " 10,\n",
       " 5,\n",
       " 15,\n",
       " 10,\n",
       " 5,\n",
       " 4,\n",
       " 2,\n",
       " 8,\n",
       " 50,\n",
       " 10,\n",
       " 5,\n",
       " 168,\n",
       " 170,\n",
       " 5,\n",
       " 4,\n",
       " 5,\n",
       " 10,\n",
       " 2,\n",
       " 156,\n",
       " 10,\n",
       " 500,\n",
       " 50,\n",
       " 5,\n",
       " 3,\n",
       " 25,\n",
       " 100,\n",
       " 5,\n",
       " 200,\n",
       " 10,\n",
       " 200,\n",
       " 3,\n",
       " 3,\n",
       " 3,\n",
       " 8,\n",
       " 1,\n",
       " 5,\n",
       " 1,\n",
       " 5,\n",
       " 50,\n",
       " 120,\n",
       " 80,\n",
       " 5,\n",
       " 5,\n",
       " 2,\n",
       " 3,\n",
       " 5,\n",
       " 10,\n",
       " 3,\n",
       " 4,\n",
       " 1,\n",
       " 10,\n",
       " 200,\n",
       " 5,\n",
       " 10,\n",
       " 30,\n",
       " 2,\n",
       " 5,\n",
       " 9,\n",
       " 1,\n",
       " 3,\n",
       " 150,\n",
       " 3,\n",
       " 5,\n",
       " 5,\n",
       " 3,\n",
       " 10,\n",
       " 6,\n",
       " 20,\n",
       " 1,\n",
       " 20,\n",
       " 2,\n",
       " 2,\n",
       " 2,\n",
       " 20,\n",
       " 5,\n",
       " 4,\n",
       " 5,\n",
       " 1,\n",
       " 5,\n",
       " 20,\n",
       " 20,\n",
       " 2,\n",
       " 2,\n",
       " 10,\n",
       " 5,\n",
       " 20,\n",
       " 50,\n",
       " 30,\n",
       " 20,\n",
       " 3,\n",
       " 50,\n",
       " 6,\n",
       " 5,\n",
       " 1,\n",
       " 3,\n",
       " 5,\n",
       " 5]"
      ]
     },
     "execution_count": 108,
     "metadata": {},
     "output_type": "execute_result"
    }
   ],
   "source": [
    "v"
   ]
  },
  {
   "cell_type": "code",
   "execution_count": 109,
   "metadata": {},
   "outputs": [
    {
     "data": {
      "text/plain": [
       "28.50943396226415"
      ]
     },
     "execution_count": 109,
     "metadata": {},
     "output_type": "execute_result"
    }
   ],
   "source": [
    "sum(v) / len(v)"
   ]
  },
  {
   "cell_type": "code",
   "execution_count": 110,
   "metadata": {},
   "outputs": [],
   "source": [
    "def get_distr(d_list):\n",
    "    d_dict = {}\n",
    "    for x in d_list:\n",
    "        if x in d_dict:\n",
    "            d_dict[x] += 1\n",
    "        else:\n",
    "            d_dict[x] = 1\n",
    "    return d_dict"
   ]
  },
  {
   "cell_type": "code",
   "execution_count": 111,
   "metadata": {},
   "outputs": [],
   "source": [
    "d = get_distr(u)"
   ]
  },
  {
   "cell_type": "code",
   "execution_count": 114,
   "metadata": {},
   "outputs": [
    {
     "data": {
      "text/plain": [
       "{2: 6,\n",
       " 3: 11,\n",
       " 4: 8,\n",
       " 5: 36,\n",
       " 6: 13,\n",
       " 7: 2,\n",
       " 8: 15,\n",
       " 9: 1,\n",
       " 10: 37,\n",
       " 11: 1,\n",
       " 15: 3,\n",
       " 20: 13,\n",
       " 25: 1,\n",
       " 30: 4,\n",
       " 35: 1,\n",
       " 50: 2,\n",
       " 100: 1,\n",
       " 300: 1,\n",
       " 502: 1}"
      ]
     },
     "execution_count": 114,
     "metadata": {},
     "output_type": "execute_result"
    }
   ],
   "source": [
    "get_distr(u)"
   ]
  },
  {
   "cell_type": "code",
   "execution_count": null,
   "metadata": {},
   "outputs": [],
   "source": []
  }
 ],
 "metadata": {
  "kernelspec": {
   "display_name": "Python 3",
   "language": "python",
   "name": "python3"
  },
  "language_info": {
   "codemirror_mode": {
    "name": "ipython",
    "version": 3
   },
   "file_extension": ".py",
   "mimetype": "text/x-python",
   "name": "python",
   "nbconvert_exporter": "python",
   "pygments_lexer": "ipython3",
   "version": "3.6.4"
  }
 },
 "nbformat": 4,
 "nbformat_minor": 2
}
