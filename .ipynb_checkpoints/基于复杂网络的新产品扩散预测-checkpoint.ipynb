{
 "cells": [
  {
   "cell_type": "code",
   "execution_count": 1,
   "metadata": {
    "collapsed": false
   },
   "outputs": [],
   "source": [
    "%matplotlib inline\n",
    "from __future__ import division\n",
    "from scipy.integrate import odeint\n",
    "from scipy.optimize import minimize,root,fixed_point\n",
    "from copy import deepcopy as dc\n",
    "from math import e\n",
    "from numpy import exp,pi,sqrt,log\n",
    "import time\n",
    "import numpy as np\n",
    "import pylab as pl\n",
    "pl.rcParams.update({'font.size': 15, 'font.family': 'STIXGeneral', 'mathtext.fontset': 'stix'})"
   ]
  },
  {
   "cell_type": "markdown",
   "metadata": {},
   "source": [
    "### 1 生成度分布序列\n",
    "\n",
    "$d$表示平均度，$x$为度分布函数参数，$c$为标准化常数，$k\\_list$为度列表。Gaussian distribution: $p(k)=c\\frac{e^\\frac{-(k-<k>)^2}{2\\sigma^2}}{\\sigma\\sqrt{2\\pi}}$,Lognormal distribution: $p(k)=c\\frac{e^\\frac{-(log(k)-<k>)^2}{2\\sigma^2}}{\\sigma\\sqrt{2\\pi}}$,Exponential distribution: $p(k)=c\\frac{e^{-k\\lambda}}{\\lambda}$,Power law distribution: $p(k)=ck^{-\\tau}$\n"
   ]
  },
  {
   "cell_type": "code",
   "execution_count": 2,
   "metadata": {
    "collapsed": true
   },
   "outputs": [],
   "source": [
    "class Gener_PK:\n",
    "    k_list = np.arange(1,100)\n",
    "    c = 1.2\n",
    "    def __init__(self,d=6,g='power'):\n",
    "        self.d = d\n",
    "        self.g = g\n",
    "        \n",
    "    def gauss(self,x):\n",
    "        pk_list = self.c*e**(-(self.k_list-x[0])**2/(2*x[1]**2))/(x[1]*sqrt(2*pi))   \n",
    "        return np.sum(pk_list)-1,np.dot(pk_list,k_list)-self.d\n",
    "\n",
    "    def logno(self,x):\n",
    "        pk_list = self.c*e**(-(log(self.k_list)-x[0])**2/(2*x[1]**2))/(self.k_list*x[1]*sqrt(2*pi))\n",
    "        return np.sum(pk_list)-1,np.dot(pk_list,k_list)-self.d\n",
    "\n",
    "    def expon(self,x):\n",
    "        pk_list = x[1]*e**(-self.k_list*x[0])\n",
    "        return np.sum(pk_list)-1,np.dot(pk_list,k_list)-self.d\n",
    "\n",
    "    def power(self,x):\n",
    "        pk_list = x[1]*self.k_list**(-x[0])\n",
    "        return np.sum(pk_list)-1,np.dot(pk_list,k_list)-self.d\n",
    "    \n",
    "    def get_pk(self):\n",
    "        if self.g == 'gauss':\n",
    "            sol = root(self.gauss,[6,1],args=(),method='lm')\n",
    "            p_k = self.c*e**(-(self.k_list-sol.x[0])**2/(2*sol.x[1]**2))/(sol.x[1]*sqrt(2*pi))\n",
    "        elif self.g == 'logno':\n",
    "            sol = root(self.logno,[5,2],args=(),method='lm')\n",
    "            p_k = self.c*e**(-(log(self.k_list)-sol.x[0])**2/(2*sol.x[1]**2))/(self.k_list*sol.x[1]*sqrt(2*pi))\n",
    "        elif self.g == 'expon':\n",
    "            sol = root(self.expon,[0.5,1.1],args=(),method='lm')\n",
    "            p_k = sol.x[1]*e**(-self.k_list*sol.x[0])       \n",
    "        else:\n",
    "            sol = root(self.power,[1,1],args=(),method='lm')\n",
    "            p_k = sol.x[1]*self.k_list**(-sol.x[0]) \n",
    "            \n",
    "        return p_k"
   ]
  },
  {
   "cell_type": "markdown",
   "metadata": {},
   "source": [
    "### 2 定义扩散微分方程组\n",
    "\n",
    "#### F为扩散率的起始点，T为取样的时间，P_k为度分布列表，K_list为度列表，p和q分别为创新系数和模仿系数，m为潜在顾客数量  \n",
    "首先定义$\\frac{dF_{k}(t)}{dt}$，然后利用scipy.integrate.odeint生成$F_{k}(t)$的连续时间扩散序列"
   ]
  },
  {
   "cell_type": "code",
   "execution_count": 130,
   "metadata": {
    "collapsed": false
   },
   "outputs": [],
   "source": [
    "class Network_Diffuse:\n",
    "    k_list = np.arange(1,100)\n",
    "    def __init__(self,S,d=6,g='power'):\n",
    "        self.d = d\n",
    "        self.g = g\n",
    "        self.S = np.array(S)\n",
    "        self.len_s = len(self.S)\n",
    "        self.T = np.arange(self.len_s)\n",
    "        self.F = np.zeros_like(self.k_list)\n",
    "    \n",
    "    def evolve(self,F,t,p,q):\n",
    "        theta = np.sum(F*self.p_k*self.k_list)/np.dot(self.p_k,self.k_list)\n",
    "        return (1-F)*(p+q*self.k_list*theta)\n",
    "\n",
    "    def gener_simulation(self,params):\n",
    "        self.d = params[0]\n",
    "        get_pk = Gener_PK(self.d)\n",
    "        get_pk.g = self.g\n",
    "        self.p_k = get_pk.get_pk()\n",
    "        \n",
    "        p,q,m = params[1:]\n",
    "        t = self.T\n",
    "        track = m*self.p_k*odeint(self.evolve,self.F,t,args=(p,q))\n",
    "        accum_diff = np.sum(track,axis=1)\n",
    "        insta_diff = np.zeros_like(self.T)\n",
    "        for i in range(1,self.len_s):\n",
    "            insta_diff[i] = accum_diff[i] - accum_diff[i-1]   \n",
    "        return insta_diff\n",
    "\n",
    "    def residuals(self,params):#残差平方和\n",
    "        return np.sum(np.square(self.S - self.gener_simulation(params)))\n",
    "\n",
    "    def mse(self,params):#均方误差\n",
    "        simul_S = self.gener_simulation(params)\n",
    "        return np.mean(np.square(simul_S - self.S))\n",
    "\n",
    "    def cal_R_sigma(self,params):\n",
    "        a = self.gener_simulation(params)\n",
    "        sse = np.sum(np.square(self.S-a))\n",
    "        ave_y = np.mean(self.S)\n",
    "        ssl = np.sum(np.square(self.S-ave_y))\n",
    "        R_2 = (ssl-sse)/ssl\n",
    "        return R_2"
   ]
  },
  {
   "cell_type": "code",
   "execution_count": 157,
   "metadata": {
    "collapsed": false
   },
   "outputs": [],
   "source": [
    "class Random_Grid_Search:\n",
    "    t_n = 500 #抽样量\n",
    "    c_n = 50 #保留参数量\n",
    "    threshold = 1e-4 #循环停止阈值\n",
    "    orig_points = [] #初始化边界点\n",
    "    k_list = np.arange(1,100)\n",
    "    \n",
    "    def __init__(self,s,d=6,g='power'): #初始化实例参数\n",
    "        self.s = np.array(s)  #待拟合曲线\n",
    "        self.s_len = len(s)\n",
    "        self.d = d\n",
    "        self.g = g\n",
    "        self.T = np.arange(self.s_len+1) #包括0时刻扩散量\n",
    "        self.F = np.zeros_like(self.k_list)\n",
    "        get_pk = Gener_PK(self.d)\n",
    "        get_pk.g = self.g\n",
    "        self.p_k = get_pk.get_pk() \n",
    "        self.para_range = [[1e-6,0.1],[1e-3/,1/d],[sum(s),4*sum(s)]]  #参数范围\n",
    "        self.p_range = [[1e-6,0.1],[1e-3,1/d],[sum(s),4*sum(s)]]  #用于产生边界节点的参数范围 \n",
    "                        \n",
    "    def gener_orig(self): #递归产生边界点\n",
    "        if len(self.p_range) == 0:\n",
    "            return\n",
    "        else:  \n",
    "            pa = self.p_range[-1]\n",
    "            if self.orig_points == []:\n",
    "                self.orig_points = [[pa[0]],[pa[1]]]  #初始化,排除orig_points为空的情形\n",
    "            else:\n",
    "                self.orig_points = [[pa[0]]+x for x in self.orig_points]+[[pa[1]]+x for x in self.orig_points]  #二分裂\n",
    "            self.p_range.pop()\n",
    "            return self.gener_orig()\n",
    "    \n",
    "    def sample(self,c_range): #抽样参数点\n",
    "        p_list = []\n",
    "        for pa in c_range:\n",
    "            if isinstance(pa[0],float):\n",
    "                x = (pa[1]-pa[0])*np.random.random(self.t_n) + pa[0]\n",
    "            else:\n",
    "                x = np.random.randint(low=pa[0],high=pa[1]+1,size=self.t_n)\n",
    "            p_list.append(x)\n",
    "\n",
    "        p_list = np.array(p_list).T\n",
    "        return p_list.tolist()\n",
    "    \n",
    "    def evolve(self,F,t,p,q):\n",
    "        theta = np.sum(F*self.p_k*self.k_list)/self.d\n",
    "        return (1-F)*(p+q*self.k_list*theta)\n",
    "\n",
    "    def f(self,params):\n",
    "        p,q,m = params\n",
    "        t = self.T\n",
    "        track = m*self.p_k*odeint(self.evolve,self.F,t,args=(p,q))\n",
    "        accum_diff = np.sum(track,axis=1)\n",
    "        insta_diff = np.zeros_like(self.s)\n",
    "        for i in range(self.s_len):\n",
    "            insta_diff[i] = accum_diff[i+1] - accum_diff[i]   \n",
    "        return insta_diff\n",
    "    \n",
    "    def r2(self,params):\n",
    "        f_act = self.f(params)\n",
    "        tse = np.sum(np.square(self.s-f_act))\n",
    "        mean_y = np.mean(self.s)\n",
    "        ssl = np.sum(np.square(self.s-mean_y))\n",
    "        R_2 = (ssl-tse)/ssl\n",
    "        return R_2\n",
    "\n",
    "    def mse(self,params):  #定义适应度函数（mse）\n",
    "        a = self.f(params)\n",
    "        sse = np.sum(np.square(self.s-a))\n",
    "        return np.sqrt(sse)/self.s_len #均方误\n",
    "    \n",
    "    def optima_search(self):\n",
    "        self.gener_orig()\n",
    "        c_range = dc(self.para_range)\n",
    "        samp = self.sample(c_range)\n",
    "        solution = sorted([self.mse(x)]+x for x in samp+self.orig_points)[:self.c_n]\n",
    "        u = 1\n",
    "        while 1:\n",
    "            params_min = np.min(np.array(solution),0) #最小值\n",
    "            params_max = np.max(np.array(solution),0) #最大值\n",
    "            c_range = [[params_min[j+1],params_max[j+1]] for j in range(len(c_range))] #重新定界\n",
    "            samp = self.sample(c_range)\n",
    "            solution = sorted([[self.mse(x)]+x for x in samp]+solution)[:self.c_n]\n",
    "            r = sorted([x[0] for x in solution])\n",
    "            v = (r[-1]-r[0])/r[0]\n",
    "            if v < self.threshold:        \n",
    "                break\n",
    "            if u > 100:\n",
    "                print 'Searching ends in 100 runs'\n",
    "                break\n",
    "            u+=1\n",
    "        return solution[0]  #sse,p,q,m"
   ]
  },
  {
   "cell_type": "code",
   "execution_count": 158,
   "metadata": {
    "collapsed": false
   },
   "outputs": [],
   "source": [
    "rgs = Random_Grid_Search(S)"
   ]
  },
  {
   "cell_type": "code",
   "execution_count": 159,
   "metadata": {
    "collapsed": false
   },
   "outputs": [
    {
     "name": "stdout",
     "output_type": "stream",
     "text": [
      "Searching ends in 100 runs\n"
     ]
    }
   ],
   "source": [
    "est = rgs.optima_search()"
   ]
  },
  {
   "cell_type": "code",
   "execution_count": 160,
   "metadata": {
    "collapsed": false
   },
   "outputs": [
    {
     "data": {
      "text/plain": [
       "0.95343608134540425"
      ]
     },
     "execution_count": 160,
     "metadata": {},
     "output_type": "execute_result"
    }
   ],
   "source": [
    "rgs.r2(est[1:])"
   ]
  },
  {
   "cell_type": "code",
   "execution_count": 161,
   "metadata": {
    "collapsed": false
   },
   "outputs": [
    {
     "data": {
      "text/plain": [
       "[<matplotlib.lines.Line2D at 0x11314c3d0>]"
      ]
     },
     "execution_count": 161,
     "metadata": {},
     "output_type": "execute_result"
    },
    {
     "data": {
      "image/png": "[encoded data removed]",
      "text/plain": [
       "<matplotlib.figure.Figure at 0x11314c350>"
      ]
     },
     "metadata": {},
     "output_type": "display_data"
    }
   ],
   "source": [
    "x = rgs.f(est[1:])\n",
    "pl.plot(x,'k-',alpha=0.7)\n",
    "pl.plot(S,'ko',ms=5)"
   ]
  },
  {
   "cell_type": "markdown",
   "metadata": {},
   "source": [
    "#### (4)例子"
   ]
  },
  {
   "cell_type": "code",
   "execution_count": null,
   "metadata": {
    "collapsed": false
   },
   "outputs": [],
   "source": [
    "T = np.arange(60)\n",
    "F = np.zeros_like(k_list)\n",
    "ini_params = [6,0.001,0.02,100000]\n",
    "\n",
    "insta_1 = gener_simulation(ini_params,'power',F,T,k_list)\n",
    "insta_2 = gener_simulation(ini_params,'lognormal',F,T,k_list)\n",
    "insta_3 = gener_simulation(ini_params,'exponential',F,T,k_list)\n",
    "insta_4 = gener_simulation(ini_params,'gaussian',F,T,k_list)\n",
    "\n",
    "pl.figure(figsize=(12,6))\n",
    "pl.xlabel('time step')\n",
    "pl.ylabel('number of adoptors')\n",
    "pl.plot(insta_1,'ko-',label='power')\n",
    "pl.plot(insta_2,'k*-',label='lognormal')\n",
    "pl.plot(insta_3,'ks-',label='exponential')\n",
    "pl.plot(insta_4,'kp-',label='gaussian')\n",
    "pl.legend(loc='best')\n",
    "pl.grid()"
   ]
  },
  {
   "cell_type": "markdown",
   "metadata": {},
   "source": [
    "### 实证扩散数据拟合"
   ]
  },
  {
   "cell_type": "markdown",
   "metadata": {},
   "source": [
    "网络度分布设置：幂律分布，指数分布，泊松分布和二项分布"
   ]
  },
  {
   "cell_type": "code",
   "execution_count": null,
   "metadata": {
    "collapsed": false
   },
   "outputs": [],
   "source": [
    "K_list = np.arange(1,100,1)\n",
    "mean_degre = 3\n",
    "mu,sigma = 1.37,1\n",
    "beta_range = np.arange(0,2.1,0.1)\n",
    "\n",
    "pk_pow = 0.6237*k_list**(-2.037)\n",
    "pk_pow[0] = 1 - np.sum(pk_pow[1:])\n",
    "\n",
    "pk_exp = 0.5*e**(-0.405*k_list)\n",
    "pk_exp[0] = 1 - np.sum(pk_exp[1:])\n",
    "\n",
    "pk_pos = 1.0633*stats.poisson.pmf(k_list,2.8214)\n",
    "pk_pos[0] = 1 - np.sum(pk_pos[1:])\n",
    "\n",
    "pk_bio = np.array([stats.binom.pmf(i,len(k_list),0.02020202) for i in range(len(k_list))])\n",
    "pk_bio[0] = 1 - np.sum(pk_bio[1:])"
   ]
  },
  {
   "cell_type": "markdown",
   "metadata": {},
   "source": [
    "数据集合"
   ]
  },
  {
   "cell_type": "code",
   "execution_count": 44,
   "metadata": {
    "collapsed": true
   },
   "outputs": [],
   "source": [
    "data_set = {'room air conditioners':(np.arange(1949,1962),[96,195,238,380,1045,1230,1267,1828,1586,1673,1800,1580,1500]),\n",
    "            'color televisions':(np.arange(1963,1971),[747,1480,2646,5118,5777,5982,5962,4631]),\n",
    "            'clothers dryers':(np.arange(1949,1962),[106,319,492,635,737,890,1397,1523,1294,1240,1425,1260,1236]),\n",
    "            'ultrasound':(np.arange(1965,1979),[5,3,2,5,7,12,6,16,16,28,28,21,13,6]),\n",
    "            'mammography':(np.arange(1965,1979),[2,2,2,3,4,9,7,16,23,24,15,6,5,1]),\n",
    "            'foreign language':(np.arange(1952,1964),[1.25,0.77,0.86,0.48,1.34,3.56,3.36,6.24,5.95,6.24,4.89,0.25]),\n",
    "            'accelerated program':(np.arange(1952,1964),[0.67,0.48,2.11,0.29,2.59,2.21,16.80,11.04,14.40,6.43,6.15,1.15])}\n",
    "china_set = {'color tv':(np.arange(1997,2013),[2.6,1.2,2.11,3.79,3.6,7.33,7.18,5.29,8.42,5.68,6.57,5.49,6.48,5.42,10.72,5.15]),\n",
    "             'mobile phone':(np.arange(1997,2013),[1.7,1.6,3.84,12.36,14.5,28.89,27.18,21.33,25.6,15.88,12.3,6.84,9.02,7.82,16.39,7.39]),\n",
    "             }"
   ]
  },
  {
   "cell_type": "code",
   "execution_count": 45,
   "metadata": {
    "collapsed": true
   },
   "outputs": [],
   "source": [
    "S = data_set['room air conditioners'][1]"
   ]
  },
  {
   "cell_type": "code",
   "execution_count": null,
   "metadata": {
    "collapsed": false
   },
   "outputs": [],
   "source": [
    "year = data_set['room air conditioners'][0]\n",
    "S = data_set['room air conditioners'][1]\n",
    "T = np.arange(len(S))\n",
    "F = np.zeros_like(k_list)"
   ]
  },
  {
   "cell_type": "code",
   "execution_count": null,
   "metadata": {
    "collapsed": false
   },
   "outputs": [],
   "source": [
    "g = 'exponential'\n",
    "x0 = (5,0.005,0.05,3*sum(S))\n",
    "t1 = time.clock()\n",
    "res = minimize(mse,x0,args=(g,S,T,F,k_list),method='powell',options={'disp':True}) \n",
    "print '用时:',time.clock()-t1,'s'\n",
    "print '参数估计值:','mean degree=',res.x[0],'p=',res.x[1],'q=',res.x[2],'m=',res.x[3]"
   ]
  },
  {
   "cell_type": "code",
   "execution_count": null,
   "metadata": {
    "collapsed": true
   },
   "outputs": [],
   "source": [
    "x = res.x\n",
    "f_S = gener_simulation(x,g,F,T,k_list)"
   ]
  },
  {
   "cell_type": "code",
   "execution_count": null,
   "metadata": {
    "collapsed": true
   },
   "outputs": [],
   "source": [
    "r2,sigma = cal_R_sigma(x,g,S,F,T,k_list)"
   ]
  },
  {
   "cell_type": "code",
   "execution_count": null,
   "metadata": {
    "collapsed": false
   },
   "outputs": [],
   "source": [
    "fig = pl.figure(figsize=(8,4))\n",
    "ax = fig.add_subplot(1,1,1)\n",
    "ax.plot(year,S,'o',c='grey',ms=7,label='Actual')\n",
    "ax.plot(year,f_S,'k-',label='Fitted')\n",
    "ax.set_xlabel('Year',fontsize=15)\n",
    "ax.set_ylabel('Sales',fontsize=15)\n",
    "ax.set_xlim(year[0],year[-1])\n",
    "ax.set_title('The estimation result')\n",
    "ax.legend(loc='best',fontsize=15)"
   ]
  },
  {
   "cell_type": "markdown",
   "metadata": {},
   "source": [
    "### 微分方程组积分示例\n",
    "\n",
    "#### 微分方程组的积分结果和选取的时间点无关，这说明了方法的正确性"
   ]
  },
  {
   "cell_type": "code",
   "execution_count": null,
   "metadata": {
    "collapsed": false
   },
   "outputs": [],
   "source": [
    "T1 = np.linspace(0,20,20)\n",
    "T2 = np.linspace(0,20,100)\n",
    "T3 = np.linspace(0,20,1000)\n",
    "T4 = np.linspace(0,20,10000)\n",
    "T_cont = [T1,T2,T3,T4]\n",
    "p,q,m=0.01,0.2,10000\n",
    "A_cont,I_cont = [],[]\n",
    "\n",
    "for i in range(4):\n",
    "    accum_diff = np.sum(m*P_k*odeint(evolve,F,T_cont[i],args=(P_k,K_list,p,q)),axis=1)\n",
    "    insta_diff = np.zeros_like(accum_diff)\n",
    "    for i in range(1,len(accum_diff)):\n",
    "        insta_diff[i] = accum_diff[i]-accum_diff[i-1]\n",
    "        \n",
    "    I_cont.append(insta_diff)\n",
    "    A_cont.append(accum_diff)"
   ]
  },
  {
   "cell_type": "code",
   "execution_count": null,
   "metadata": {
    "collapsed": false
   },
   "outputs": [],
   "source": [
    "A_cont[0][1],np.sum(A_cont[1][1]),np.sum(A_cont[2][1])"
   ]
  },
  {
   "cell_type": "code",
   "execution_count": null,
   "metadata": {
    "collapsed": false
   },
   "outputs": [],
   "source": [
    "for i in range(4):\n",
    "    pl.plot(T_cont[i],A_cont[i],'%s'%C_cont[i])"
   ]
  },
  {
   "cell_type": "code",
   "execution_count": null,
   "metadata": {
    "collapsed": false
   },
   "outputs": [],
   "source": [
    "%matplotlib inline\n",
    "C_cont = ['ko-','bo-','go-','ro-']\n",
    "fig = pl.figure(figsize=(8,8))\n",
    "for i in range(4):\n",
    "    ax = fig.add_subplot(2,2,i+1)\n",
    "    ax.plot(T_cont[i],I_cont[i],'%s'%C_cont[i])\n",
    "    \n",
    "pl.tight_layout()"
   ]
  }
 ],
 "metadata": {
  "anaconda-cloud": {},
  "kernelspec": {
   "display_name": "Python 2",
   "language": "python",
   "name": "python2"
  },
  "language_info": {
   "codemirror_mode": {
    "name": "ipython",
    "version": 2
   },
   "file_extension": ".py",
   "mimetype": "text/x-python",
   "name": "python",
   "nbconvert_exporter": "python",
   "pygments_lexer": "ipython2",
   "version": "2.7.10"
  }
 },
 "nbformat": 4,
 "nbformat_minor": 0
}
