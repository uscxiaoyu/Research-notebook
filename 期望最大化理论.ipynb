{
 "cells": [
  {
   "cell_type": "code",
   "execution_count": 1,
   "metadata": {
    "collapsed": true
   },
   "outputs": [],
   "source": [
    "from __future__ import division\n",
    "from copy import deepcopy as dc\n",
    "import numpy as np\n",
    "import time"
   ]
  },
  {
   "cell_type": "code",
   "execution_count": 30,
   "metadata": {
    "collapsed": false
   },
   "outputs": [],
   "source": [
    "class Random_Grid_Search:\n",
    "    t_n = 200 #抽样量\n",
    "    c_n = 50 #保留参数量\n",
    "    threshold = 1e-6 #循环停止阈值\n",
    "    orig_points = [] #初始化边界点\n",
    "    k_list = np.arange(1,100)\n",
    "    def __init__(self,d): #初始化实例参数\n",
    "        self.para_range = []  #参数范围\n",
    "        self.d = d\n",
    "        self.para_range = [[0,3],[0,3]]  #用于产生边界节点的参数范围 \n",
    "    \n",
    "    def sample(self,c_range): #抽样参数点\n",
    "        p_list = []\n",
    "        for pa in c_range:\n",
    "            x = (pa[1]-pa[0])*np.random.random(self.t_n) + pa[0]\n",
    "            p_list.append(x)\n",
    "        p_list = np.array(p_list).T\n",
    "        return p_list.tolist()\n",
    "    \n",
    "    def f(self,params): #扩散函数\n",
    "        a,b = params\n",
    "        p_k = np.array([a*k**(-b) for k in self.k_list])\n",
    "        x = abs(np.sum(p_k)-1)\n",
    "        y = abs(np.sum(p_k*self.k_list)-self.d)\n",
    "        return x+y\n",
    "    \n",
    "    def optima_search(self):\n",
    "        orig_points = [[self.para_range[0][0],self.para_range[0][0]],[self.para_range[0][0],self.para_range[0][1]],\n",
    "                                     [self.para_range[1][0],self.para_range[0][0]],[self.para_range[0][1],self.para_range[0][1]]]\n",
    "        c_range = dc(self.para_range)\n",
    "        samp = self.sample(c_range)\n",
    "        solution = sorted([self.f(x)]+x for x in samp+orig_points)[:self.c_n]\n",
    "        u = 1\n",
    "        while 1:\n",
    "            params_min = np.min(np.array(solution),0) #最小值\n",
    "            params_max = np.max(np.array(solution),0) #最大值\n",
    "            c_range = [[params_min[j+1],params_max[j+1]] for j in range(len(c_range))] #重新定界\n",
    "            samp = self.sample(c_range)\n",
    "            solution = sorted([[self.f(x)]+x for x in samp]+solution)[:self.c_n]\n",
    "            r = [x[0] for x in solution]\n",
    "            if np.min(r) < self.threshold:\n",
    "                est = solution[np.argmin(r)]\n",
    "                break\n",
    "            if u > 100:\n",
    "                print 'Searching ends in 100 runs'\n",
    "                break\n",
    "            u+=1\n",
    "        return est  #sse,a,b\n",
    "    \n",
    "    def get_pk(self,params):\n",
    "        a,b = params\n",
    "        p_k = np.array([a*k**(-b) for k in self.k_list])\n",
    "        return p_k"
   ]
  },
  {
   "cell_type": "code",
   "execution_count": 31,
   "metadata": {
    "collapsed": true
   },
   "outputs": [],
   "source": [
    "rgs = Random_Grid_Search(4)"
   ]
  },
  {
   "cell_type": "code",
   "execution_count": 32,
   "metadata": {
    "collapsed": false
   },
   "outputs": [
    {
     "name": "stdout",
     "output_type": "stream",
     "text": [
      "[5.6653480129398304e-07, 0.5603353537893043, 1.8531334579800882] 2.156  s\n",
      "[8.1874716695296001e-07, 0.5603361973277804, 1.8531340760769426] 1.939  s\n",
      "[3.8547313252479398e-07, 0.5603354683962101, 1.853133490171707] 2.112  s\n",
      "[7.7794802399999696e-07, 0.5603361645154135, 1.8531340512411063] 1.971  s\n",
      "[7.3847199111298778e-07, 0.5603353477063212, 1.8531334697054596] 1.977  s\n",
      "[5.9761825133008983e-07, 0.5603357997429497, 1.8531337385334385] 2.122  s\n",
      "[3.4227310352630269e-07, 0.5603354991738845, 1.8531335649157439] 2.050  s\n",
      "[4.7312907658358938e-07, 0.5603358168969839, 1.8531337661940632] 2.292  s\n",
      "[9.6365162960410089e-07, 0.5603349403163641, 1.8531331298699272] 2.010  s\n",
      "[4.3071991906451501e-07, 0.5603353218420334, 1.853133394959591] 2.017  s\n"
     ]
    }
   ],
   "source": [
    "for i in range(10):\n",
    "    time1 = time.clock()\n",
    "    print rgs.optima_search(),'%.3f  s'%(time.clock()-time1)"
   ]
  },
  {
   "cell_type": "code",
   "execution_count": 34,
   "metadata": {
    "collapsed": false
   },
   "outputs": [
    {
     "data": {
      "text/plain": [
       "2.1501480806929152e-06"
      ]
     },
     "execution_count": 34,
     "metadata": {},
     "output_type": "execute_result"
    }
   ],
   "source": [
    "rgs.f([0.560335,1.853133])"
   ]
  },
  {
   "cell_type": "code",
   "execution_count": 13,
   "metadata": {
    "collapsed": false
   },
   "outputs": [
    {
     "name": "stdout",
     "output_type": "stream",
     "text": [
      "Populating the interactive namespace from numpy and matplotlib\n"
     ]
    }
   ],
   "source": [
    "%pylab inline\n",
    "import pylab as pl"
   ]
  },
  {
   "cell_type": "code",
   "execution_count": 36,
   "metadata": {
    "collapsed": false
   },
   "outputs": [
    {
     "data": {
      "text/plain": [
       "[<matplotlib.lines.Line2D at 0x17e25c88>]"
      ]
     },
     "execution_count": 36,
     "metadata": {},
     "output_type": "execute_result"
    },
    {
     "data": {
      "image/png": "[encoded data removed]",
      "text/plain": [
       "<matplotlib.figure.Figure at 0x17d102e8>"
      ]
     },
     "metadata": {},
     "output_type": "display_data"
    }
   ],
   "source": [
    "pl.plot(rgs.get_pk([0.560335,1.853133]),'bo')"
   ]
  },
  {
   "cell_type": "code",
   "execution_count": 18,
   "metadata": {
    "collapsed": true
   },
   "outputs": [],
   "source": [
    "from scipy.optimize import root"
   ]
  },
  {
   "cell_type": "code",
   "execution_count": 68,
   "metadata": {
    "collapsed": true
   },
   "outputs": [],
   "source": [
    "k_list = np.arange(1,100)\n",
    "d = 3\n",
    "def f(params,m=3,k_list=np.arange(1,100)): \n",
    "    a,b = params\n",
    "    p_k = np.array([a*k**(-b) for k in k_list])\n",
    "    return [sum(p_k)-1,sum(p_k*k_list)-m]"
   ]
  },
  {
   "cell_type": "code",
   "execution_count": 71,
   "metadata": {
    "collapsed": false
   },
   "outputs": [],
   "source": [
    "sol = root(f, [0.5, 1], args=(4,k_list),jac=False, method='lm')"
   ]
  },
  {
   "cell_type": "code",
   "execution_count": 76,
   "metadata": {
    "collapsed": false
   },
   "outputs": [],
   "source": [
    "for i in range(1000):\n",
    "    m = 100*np.random.random()\n",
    "    sol = root(f, [0.5, 1], args=(m,k_list),jac=False, method='lm')"
   ]
  },
  {
   "cell_type": "code",
   "execution_count": null,
   "metadata": {
    "collapsed": true
   },
   "outputs": [],
   "source": []
  }
 ],
 "metadata": {
  "kernelspec": {
   "display_name": "Python 2",
   "language": "python",
   "name": "python2"
  },
  "language_info": {
   "codemirror_mode": {
    "name": "ipython",
    "version": 2
   },
   "file_extension": ".py",
   "mimetype": "text/x-python",
   "name": "python",
   "nbconvert_exporter": "python",
   "pygments_lexer": "ipython2",
   "version": "2.7.10"
  }
 },
 "nbformat": 4,
 "nbformat_minor": 0
}
